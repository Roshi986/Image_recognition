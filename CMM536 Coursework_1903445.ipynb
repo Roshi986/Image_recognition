{
 "cells": [
  {
   "cell_type": "markdown",
   "metadata": {},
   "source": [
    "# \n",
    "\n",
    "1st may 2020"
   ]
  },
  {
   "cell_type": "markdown",
   "metadata": {},
   "source": [
    "# Part 1: Loading/Preprocessing image datasets"
   ]
  },
  {
   "cell_type": "code",
   "execution_count": 1,
   "metadata": {},
   "outputs": [
    {
     "name": "stderr",
     "output_type": "stream",
     "text": [
      "/anaconda3/lib/python3.7/site-packages/sklearn/externals/joblib/__init__.py:15: FutureWarning: sklearn.externals.joblib is deprecated in 0.21 and will be removed in 0.23. Please import this functionality directly from joblib, which can be installed with: pip install joblib. If this warning is raised when loading pickled models, you may need to re-serialize those models with scikit-learn 0.21+.\n",
      "  warnings.warn(msg, category=FutureWarning)\n"
     ]
    }
   ],
   "source": [
    "import numpy as np\n",
    "import pandas as pd\n",
    "import seaborn as sns\n",
    "import os\n",
    "import cv2\n",
    "import csv\n",
    "from skimage import feature\n",
    "from sklearn.externals import joblib\n",
    "from sklearn.svm import SVC\n",
    "import matplotlib.pyplot as plt\n",
    "from sklearn import preprocessing\n",
    "%matplotlib inline"
   ]
  },
  {
   "cell_type": "markdown",
   "metadata": {},
   "source": [
    "I have used the five datasets that were provided. "
   ]
  },
  {
   "cell_type": "markdown",
   "metadata": {},
   "source": [
    "Five datasets were:\n",
    "\n",
    "1) Symbol Repository Original: This file contains pixels of the symbol images. They were resized to (100 X 100) and flattened to a vector of 10,000 features and binarised. This file was read as pix for Part 2. \n",
    "\n",
    "2) Symbols after class decomosition: 65 classes and 10,000 features. This file was read as pix_cd for part 2.\n",
    "\n",
    "3) Symmbol repository hog features: In this file, each symbol is representated by HOG features with 1800 vector based on a 100 X 100 input. This file was read as hog in part 2.\n",
    "\n",
    "4) HOG ROS: 15288 symbols with 10,000 features. This file was read as hog_ros in part 2.\n",
    "\n",
    "5) Symbols with local binary pattern features:  26 feature vector. This file was read as lbp in part 2. "
   ]
  },
  {
   "cell_type": "markdown",
   "metadata": {},
   "source": [
    "# Part 2"
   ]
  },
  {
   "cell_type": "markdown",
   "metadata": {},
   "source": [
    "1. Write Python code that is capable to load all the symbol datasets that you created in Part 1 (and/or the ones that I provided you) to perform a classification evaluation/validation. You should include AT LEAST three classifiers: a) A NN, b) a CNN (which can only work with your \"pixel\" datasets) and c) any other supervised learning classifier (e.g. SVM, Random Forests, decision trees, etc.)."
   ]
  },
  {
   "cell_type": "code",
   "execution_count": 2,
   "metadata": {},
   "outputs": [
    {
     "data": {
      "text/plain": [
       "{'width': 1000, 'height': 600, 'scroll': True}"
      ]
     },
     "execution_count": 2,
     "metadata": {},
     "output_type": "execute_result"
    }
   ],
   "source": [
    "from notebook.services.config import ConfigManager\n",
    "cm = ConfigManager()\n",
    "cm.update('livereveal', {\n",
    "              'width': 1000,\n",
    "              'height': 600,\n",
    "              'scroll': True,\n",
    "})"
   ]
  },
  {
   "cell_type": "code",
   "execution_count": 3,
   "metadata": {
    "scrolled": false
   },
   "outputs": [
    {
     "name": "stdout",
     "output_type": "stream",
     "text": [
      "Collecting tensorflow\n",
      "  Using cached https://files.pythonhosted.org/packages/35/55/a0dbd642e68e68f3e309d1413abdc0a7aa7e1534c79c0fc2501defb864ac/tensorflow-2.1.0-cp37-cp37m-macosx_10_11_x86_64.whl\n",
      "Collecting six>=1.12.0 (from tensorflow)\n",
      "  Using cached https://files.pythonhosted.org/packages/65/eb/1f97cb97bfc2390a276969c6fae16075da282f5058082d4cb10c6c5c1dba/six-1.14.0-py2.py3-none-any.whl\n",
      "Collecting termcolor>=1.1.0 (from tensorflow)\n",
      "Collecting tensorflow-estimator<2.2.0,>=2.1.0rc0 (from tensorflow)\n",
      "  Using cached https://files.pythonhosted.org/packages/18/90/b77c328a1304437ab1310b463e533fa7689f4bfc41549593056d812fab8e/tensorflow_estimator-2.1.0-py2.py3-none-any.whl\n",
      "Collecting opt-einsum>=2.3.2 (from tensorflow)\n",
      "  Using cached https://files.pythonhosted.org/packages/63/a5/e6c07b08b934831ccb8c98ee335e66b7761c5754ee3cabfe4c11d0b1af28/opt_einsum-3.2.1-py3-none-any.whl\n",
      "Collecting gast==0.2.2 (from tensorflow)\n",
      "Collecting grpcio>=1.8.6 (from tensorflow)\n",
      "  Using cached https://files.pythonhosted.org/packages/78/05/c7450cec52bb1e3d7c56efd384c0ee647cd2b44946004035b3abe3493407/grpcio-1.28.1-cp37-cp37m-macosx_10_9_x86_64.whl\n",
      "Collecting google-pasta>=0.1.6 (from tensorflow)\n",
      "  Using cached https://files.pythonhosted.org/packages/a3/de/c648ef6835192e6e2cc03f40b19eeda4382c49b5bafb43d88b931c4c74ac/google_pasta-0.2.0-py3-none-any.whl\n",
      "Collecting wrapt>=1.11.1 (from tensorflow)\n",
      "  Using cached https://files.pythonhosted.org/packages/82/f7/e43cefbe88c5fd371f4cf0cf5eb3feccd07515af9fd6cf7dbf1d1793a797/wrapt-1.12.1.tar.gz\n",
      "Collecting astor>=0.6.0 (from tensorflow)\n",
      "  Using cached https://files.pythonhosted.org/packages/c3/88/97eef84f48fa04fbd6750e62dcceafba6c63c81b7ac1420856c8dcc0a3f9/astor-0.8.1-py2.py3-none-any.whl\n",
      "Collecting tensorboard<2.2.0,>=2.1.0 (from tensorflow)\n",
      "  Using cached https://files.pythonhosted.org/packages/d9/41/bbf49b61370e4f4d245d4c6051dfb6db80cec672605c91b1652ac8cc3d38/tensorboard-2.1.1-py3-none-any.whl\n",
      "Collecting absl-py>=0.7.0 (from tensorflow)\n",
      "Collecting numpy<2.0,>=1.16.0 (from tensorflow)\n",
      "  Using cached https://files.pythonhosted.org/packages/a0/3b/9e23c7e8a313a7e03e960d9cd1542cadb7c8633a2eb42b48a8731e387a42/numpy-1.18.3-cp37-cp37m-macosx_10_9_x86_64.whl\n",
      "Collecting wheel>=0.26; python_version >= \"3\" (from tensorflow)\n",
      "  Using cached https://files.pythonhosted.org/packages/8c/23/848298cccf8e40f5bbb59009b32848a4c38f4e7f3364297ab3c3e2e2cd14/wheel-0.34.2-py2.py3-none-any.whl\n",
      "Collecting keras-preprocessing>=1.1.0 (from tensorflow)\n",
      "  Using cached https://files.pythonhosted.org/packages/28/6a/8c1f62c37212d9fc441a7e26736df51ce6f0e38455816445471f10da4f0a/Keras_Preprocessing-1.1.0-py2.py3-none-any.whl\n",
      "Collecting keras-applications>=1.0.8 (from tensorflow)\n",
      "  Using cached https://files.pythonhosted.org/packages/71/e3/19762fdfc62877ae9102edf6342d71b28fbfd9dea3d2f96a882ce099b03f/Keras_Applications-1.0.8-py3-none-any.whl\n",
      "Collecting protobuf>=3.8.0 (from tensorflow)\n",
      "  Using cached https://files.pythonhosted.org/packages/4c/25/c057a298635d08d087a20f51ff4287d821814208ebb045d84ea65535b3e3/protobuf-3.11.3-cp37-cp37m-macosx_10_9_x86_64.whl\n",
      "Collecting scipy==1.4.1; python_version >= \"3\" (from tensorflow)\n",
      "  Using cached https://files.pythonhosted.org/packages/85/7a/ae480be23b768910a9327c33517ced4623ba88dc035f9ce0206657c353a9/scipy-1.4.1-cp37-cp37m-macosx_10_6_intel.whl\n",
      "Collecting markdown>=2.6.8 (from tensorboard<2.2.0,>=2.1.0->tensorflow)\n",
      "  Using cached https://files.pythonhosted.org/packages/ab/c4/ba46d44855e6eb1770a12edace5a165a0c6de13349f592b9036257f3c3d3/Markdown-3.2.1-py2.py3-none-any.whl\n",
      "Collecting requests<3,>=2.21.0 (from tensorboard<2.2.0,>=2.1.0->tensorflow)\n",
      "  Using cached https://files.pythonhosted.org/packages/1a/70/1935c770cb3be6e3a8b78ced23d7e0f3b187f5cbfab4749523ed65d7c9b1/requests-2.23.0-py2.py3-none-any.whl\n",
      "Collecting setuptools>=41.0.0 (from tensorboard<2.2.0,>=2.1.0->tensorflow)\n",
      "  Using cached https://files.pythonhosted.org/packages/a0/df/635cdb901ee4a8a42ec68e480c49f85f4c59e8816effbf57d9e6ee8b3588/setuptools-46.1.3-py3-none-any.whl\n",
      "Collecting google-auth<2,>=1.6.3 (from tensorboard<2.2.0,>=2.1.0->tensorflow)\n",
      "  Using cached https://files.pythonhosted.org/packages/d2/f8/1623d69e5de22e499b68a0cb5e5d02cd6a2843e55acc19f314f48fe04299/google_auth-1.14.1-py2.py3-none-any.whl\n",
      "Collecting werkzeug>=0.11.15 (from tensorboard<2.2.0,>=2.1.0->tensorflow)\n",
      "  Using cached https://files.pythonhosted.org/packages/cc/94/5f7079a0e00bd6863ef8f1da638721e9da21e5bacee597595b318f71d62e/Werkzeug-1.0.1-py2.py3-none-any.whl\n",
      "Collecting google-auth-oauthlib<0.5,>=0.4.1 (from tensorboard<2.2.0,>=2.1.0->tensorflow)\n",
      "  Using cached https://files.pythonhosted.org/packages/7b/b8/88def36e74bee9fce511c9519571f4e485e890093ab7442284f4ffaef60b/google_auth_oauthlib-0.4.1-py2.py3-none-any.whl\n",
      "Collecting h5py (from keras-applications>=1.0.8->tensorflow)\n",
      "  Using cached https://files.pythonhosted.org/packages/1a/8b/4d01ae9a9d50a0bcc7b0b9aae41785d8d9de6fa9bba04dc20b1582181d2d/h5py-2.10.0-cp37-cp37m-macosx_10_6_intel.whl\n",
      "Collecting urllib3!=1.25.0,!=1.25.1,<1.26,>=1.21.1 (from requests<3,>=2.21.0->tensorboard<2.2.0,>=2.1.0->tensorflow)\n",
      "  Using cached https://files.pythonhosted.org/packages/e1/e5/df302e8017440f111c11cc41a6b432838672f5a70aa29227bf58149dc72f/urllib3-1.25.9-py2.py3-none-any.whl\n",
      "Collecting idna<3,>=2.5 (from requests<3,>=2.21.0->tensorboard<2.2.0,>=2.1.0->tensorflow)\n",
      "  Using cached https://files.pythonhosted.org/packages/89/e3/afebe61c546d18fb1709a61bee788254b40e736cff7271c7de5de2dc4128/idna-2.9-py2.py3-none-any.whl\n",
      "Collecting chardet<4,>=3.0.2 (from requests<3,>=2.21.0->tensorboard<2.2.0,>=2.1.0->tensorflow)\n",
      "  Using cached https://files.pythonhosted.org/packages/bc/a9/01ffebfb562e4274b6487b4bb1ddec7ca55ec7510b22e4c51f14098443b8/chardet-3.0.4-py2.py3-none-any.whl\n",
      "Collecting certifi>=2017.4.17 (from requests<3,>=2.21.0->tensorboard<2.2.0,>=2.1.0->tensorflow)\n",
      "  Using cached https://files.pythonhosted.org/packages/57/2b/26e37a4b034800c960a00c4e1b3d9ca5d7014e983e6e729e33ea2f36426c/certifi-2020.4.5.1-py2.py3-none-any.whl\n",
      "Collecting pyasn1-modules>=0.2.1 (from google-auth<2,>=1.6.3->tensorboard<2.2.0,>=2.1.0->tensorflow)\n",
      "  Using cached https://files.pythonhosted.org/packages/95/de/214830a981892a3e286c3794f41ae67a4495df1108c3da8a9f62159b9a9d/pyasn1_modules-0.2.8-py2.py3-none-any.whl\n",
      "Collecting cachetools<5.0,>=2.0.0 (from google-auth<2,>=1.6.3->tensorboard<2.2.0,>=2.1.0->tensorflow)\n",
      "  Using cached https://files.pythonhosted.org/packages/b3/59/524ffb454d05001e2be74c14745b485681c6ed5f2e625f71d135704c0909/cachetools-4.1.0-py3-none-any.whl\n",
      "Collecting rsa<4.1,>=3.1.4 (from google-auth<2,>=1.6.3->tensorboard<2.2.0,>=2.1.0->tensorflow)\n",
      "  Using cached https://files.pythonhosted.org/packages/02/e5/38518af393f7c214357079ce67a317307936896e961e35450b70fad2a9cf/rsa-4.0-py2.py3-none-any.whl\n",
      "Collecting requests-oauthlib>=0.7.0 (from google-auth-oauthlib<0.5,>=0.4.1->tensorboard<2.2.0,>=2.1.0->tensorflow)\n",
      "  Using cached https://files.pythonhosted.org/packages/a3/12/b92740d845ab62ea4edf04d2f4164d82532b5a0b03836d4d4e71c6f3d379/requests_oauthlib-1.3.0-py2.py3-none-any.whl\n",
      "Collecting pyasn1<0.5.0,>=0.4.6 (from pyasn1-modules>=0.2.1->google-auth<2,>=1.6.3->tensorboard<2.2.0,>=2.1.0->tensorflow)\n",
      "  Using cached https://files.pythonhosted.org/packages/62/1e/a94a8d635fa3ce4cfc7f506003548d0a2447ae76fd5ca53932970fe3053f/pyasn1-0.4.8-py2.py3-none-any.whl\n",
      "Collecting oauthlib>=3.0.0 (from requests-oauthlib>=0.7.0->google-auth-oauthlib<0.5,>=0.4.1->tensorboard<2.2.0,>=2.1.0->tensorflow)\n",
      "  Using cached https://files.pythonhosted.org/packages/05/57/ce2e7a8fa7c0afb54a0581b14a65b56e62b5759dbc98e80627142b8a3704/oauthlib-3.1.0-py2.py3-none-any.whl\n",
      "Installing collected packages: six, termcolor, tensorflow-estimator, numpy, opt-einsum, gast, grpcio, google-pasta, wrapt, astor, setuptools, markdown, protobuf, urllib3, idna, chardet, certifi, requests, absl-py, pyasn1, pyasn1-modules, cachetools, rsa, google-auth, wheel, werkzeug, oauthlib, requests-oauthlib, google-auth-oauthlib, tensorboard, keras-preprocessing, h5py, keras-applications, scipy, tensorflow\n",
      "\u001b[31mCould not install packages due to an EnvironmentError: [Errno 13] Permission denied: '/Library/Frameworks/Python.framework/Versions/3.7/lib/python3.7/site-packages/six.py'\n",
      "Consider using the `--user` option or check the permissions.\n",
      "\u001b[0m\n"
     ]
    },
    {
     "name": "stdout",
     "output_type": "stream",
     "text": [
      "\u001b[33mYou are using pip version 19.0.3, however version 20.1b1 is available.\r\n",
      "You should consider upgrading via the 'pip install --upgrade pip' command.\u001b[0m\r\n"
     ]
    }
   ],
   "source": [
    "!pip3 install tensorflow"
   ]
  },
  {
   "cell_type": "code",
   "execution_count": 4,
   "metadata": {},
   "outputs": [
    {
     "name": "stderr",
     "output_type": "stream",
     "text": [
      "Using TensorFlow backend.\n"
     ]
    }
   ],
   "source": [
    "import tensorflow as tf\n",
    "import keras\n",
    "import numpy as np\n",
    "import matplotlib.pyplot as plt\n",
    "import pickle"
   ]
  },
  {
   "cell_type": "code",
   "execution_count": 8,
   "metadata": {},
   "outputs": [],
   "source": [
    "import sklearn.model_selection as model_selection\n",
    "from sklearn.model_selection import train_test_split"
   ]
  },
  {
   "cell_type": "code",
   "execution_count": 9,
   "metadata": {},
   "outputs": [],
   "source": [
    "# import the necessary packages\n",
    "from sklearn.preprocessing import LabelEncoder\n",
    "from sklearn.model_selection import train_test_split\n",
    "from keras.models import Sequential\n",
    "from keras.layers import Activation\n",
    "from keras.optimizers import SGD\n",
    "from keras.layers import Dense\n",
    "from keras.utils import np_utils\n",
    "import numpy as np\n",
    "import argparse\n",
    "import cv2\n",
    "import os"
   ]
  },
  {
   "cell_type": "code",
   "execution_count": 10,
   "metadata": {},
   "outputs": [],
   "source": [
    "from __future__ import print_function\n",
    "from keras.models import load_model\n",
    "from imutils import paths\n",
    "import numpy as np\n",
    "import argparse\n",
    "import imutils\n",
    "import cv2"
   ]
  },
  {
   "cell_type": "code",
   "execution_count": 11,
   "metadata": {},
   "outputs": [
    {
     "name": "stdout",
     "output_type": "stream",
     "text": [
      "Requirement already satisfied: imutils in /anaconda3/lib/python3.7/site-packages (0.5.3)\n",
      "Note: you may need to restart the kernel to use updated packages.\n"
     ]
    }
   ],
   "source": [
    "pip install imutils"
   ]
  },
  {
   "cell_type": "markdown",
   "metadata": {},
   "source": [
    "# 1A. Three classifiers used"
   ]
  },
  {
   "cell_type": "markdown",
   "metadata": {},
   "source": [
    "Support Vector Machines (SVM) are supervised machine learning algorithms that analyse data for classification and regression. Datapoints are separated using a hyperplane with the highest margin and then finds the optimal hyperplane to classify unseen data and they are also known as discriminative classifier. Kernels are used to transform input data into the required form. The kernel is the main hyperparameter that can be tuned to meet the requirement of the type of dataset and output required. There are several types of kernel that can be used. \n",
    "\n",
    "Random forest classifier (RF) was also used as another supervised learning used in both regression and classification problems. It is a meta estimator which fits a number of decision trees classifiers and take the average to predict accuracy. Taking the average predictions of the trees will protect from the individual errors making it highly accurate and robust. Since it takes the average of all the predictions, it avoids the problem of overfitting. However RF can be slow to generate due to multiple decision trees. "
   ]
  },
  {
   "cell_type": "markdown",
   "metadata": {},
   "source": [
    "Artificial Neural Network: Artificial Neural Network (NN) is a supervised learning classification algorithm. It is known to be inspired by how the neurones work in a brain. Neurones are the basic component of NN. It is a type of machine learning where the computer can learn on the training data by performing deep learning and mostly used successfully in object recognition. When a large number of certain type objects are presented to NN, the computer learns from it and can successfully learn to categorise new images based on its learning. Training will include providing a large number of data with the corresponding output so the machine will learn to create the output on the new set of unseen data.\n",
    "\n",
    "ANN architecture: In general there are three layers in ANN. The first layer is the input layer where the features are provided. The hidden layer will contain neurones that will fit the functions required to predict and is the bridge between the input and the output. The features are connected to all the neurones which make them fully connected. The final layer will be the output layer."
   ]
  },
  {
   "cell_type": "markdown",
   "metadata": {},
   "source": [
    "Convolutional Neural Network (CNN):\n",
    "Deep learning has been very popular in recent years and one of the great ways to use deep learning for image classification is using a convolutional neural network (CNN).CNN  learns the internal features looking at both local and global features making them more efficient in image recognition. The first layer in CNN is always a convolutional layer \n",
    "to extract features from an imput image and the filters are feature identifiers. Stride is the number of pixel shifts over the input matrix. If the images are too big, pooling layer reduces the number of parameters. After the features identification, there is a fully connected layer at the end of the network where it takes an input volume and outputs an N dimensional vector where N is the number of classes. The convolutional layers detects the same patterns in different parts of the image and the pooling merges similar features. This makes them more efficient by being able to detect features anywhere. "
   ]
  },
  {
   "cell_type": "markdown",
   "metadata": {},
   "source": [
    "# 2. How the test was run"
   ]
  },
  {
   "cell_type": "markdown",
   "metadata": {},
   "source": [
    "Each dataset is an experiment. There are five experiments in total for five datasets. For each dataset, the the training and testing sets were split into 80:20 ratio with 80% of the data for training and 20% for testing for all experiments. However, this might not be the most efficient way due to sample variability int he training and testing sets. The training sets chosen could be biased and can give better prediction on training sets but not on the testing sets causing overfitting. \n",
    "\n",
    "For bigger dataset, kfold cross validation could be used where the dataset is randomly divided into k folds. One of the folds is kept for testing and the rest for training which is repeated k times and each time the validation groups changes. This can be more unbiased and efficient method for prediction. I got errors when trying to do use kfold cross validation. \n",
    "\n",
    "SVM:\n",
    "In these experiment linear kernel was used. Linear kernel is used as a product of two different observations. SVM classifier gives good accuracy and offer faster prediction. However, it might not be so useful for very large dataset and it does not work well when the classes are overlapping. Accuracy in percentage was chosen as the metrics. \n",
    "\n",
    "RF:\n",
    "In these experiments, RF with 500 decision trees were used.Percentage accuracy was chosen as the metrics.\n",
    "\n",
    "ANN:\n",
    "ANN was carried out using keras sequential (left to right) model. The first layer was the input layer. The dense layer contains the number of neurones and the activation units. In this experiments, for both pixel (pix) and class decomposed (pix_cd) datasets, Rectified Linear Unit (relu) with default settings was used. Relu is used in most neural networks and are computionally simpler compared to other sctivation functions.It can output a true zero value causing sparse representation which can speed up learning process and simplify the model (Krizhevsky et al., 2012). However, it might not be the most efficient when there are lots of layers.\n",
    "\n",
    "The final layer is the output and contains the output value or class (39 for pix, hog, hog_ros and lbp dataset and 65 for pix_cd dataset) and softmax activation. Softmax makes sure that all probability values are between 0 and 1. In these experiments, only one hidden layer was used used but for more complex data layers can be added to increase the performance of the model. \n",
    "\n",
    "There are several optimisers which can be used and are one of the hyperparameters that can be tuned. In this experiment, to compile the model, adam optimiser was used with default settings as described by Kingma and Ba (2015). I have tried to test other optimisers like 'rsmprop' in some cases. \n",
    "\n",
    "Since our target labels were changed to categorical with more than two classes, categorical_crossentropy was used. The goal of the model building is to reduce the loss as much as possible. The metrics used was accuracy which measures how accurately, the model does the classification on the testing sets. Accuracy alone might not be a good indicator. The loss function should also indicate the loss decreasing. These hyperparameters can be changed and tuned to get the best model performance.\n",
    "\n",
    "\n",
    "CNN:\n",
    "Since CNNs extract their own features, the original pixel dataset (pix) and the class decomposed pixels dataset (pix_cd) were used to run the CNN classifier. CNN architecture contained the input layer of the pixels which were (100 X 100); convolutional layer of 32 (5 x 5) filters or (3 X 3); relu activation; max pooling layer (2,2) followed by fully connected layer and an output layer with softmax activation function. Compilation of the model was used as in ANN and loss and accuracy was recorded. Hidden layer of 300 for pix data and 500 for pix_cd dataset was described by Elyan et al.(2018). \n"
   ]
  },
  {
   "cell_type": "markdown",
   "metadata": {},
   "source": [
    "#  Experiment 1. Pixels dataset (loaded as pix)"
   ]
  },
  {
   "cell_type": "code",
   "execution_count": 6,
   "metadata": {},
   "outputs": [
    {
     "data": {
      "text/plain": [
       "(2432, 10001)"
      ]
     },
     "execution_count": 6,
     "metadata": {},
     "output_type": "execute_result"
    }
   ],
   "source": [
    "# original dataset (pixel dataset) Symbols_pixel.csv as pix\n",
    "\n",
    "import csv\n",
    "pix = pd.read_csv('Symbols_pixel.csv', delimiter = ',', header=None)\n",
    "\n",
    "#change to numpy array\n",
    "pix=np.array(pix)\n",
    "pix\n",
    "pix.shape"
   ]
  },
  {
   "cell_type": "code",
   "execution_count": 12,
   "metadata": {},
   "outputs": [
    {
     "name": "stdout",
     "output_type": "stream",
     "text": [
      "[[0 0 0 ... 255 255 255]\n",
      " [255 255 255 ... 0 0 0]\n",
      " [255 255 255 ... 255 255 255]\n",
      " ...\n",
      " [255 255 255 ... 255 255 255]\n",
      " [255 255 255 ... 255 255 255]\n",
      " [255 255 255 ... 255 255 255]]\n",
      "[['Arrowhead']\n",
      " ['Arrowhead']\n",
      " ['Arrowhead']\n",
      " ...\n",
      " ['Vessel']\n",
      " ['Vessel']\n",
      " ['Vessel']]\n"
     ]
    }
   ],
   "source": [
    "#split into images (X) and lables (Y)\n",
    "pix\n",
    "pixX = pix[:,:-1]\n",
    "pixY = pix[:,-1:]\n",
    "print (pixX)\n",
    "print(pixY)"
   ]
  },
  {
   "cell_type": "code",
   "execution_count": 14,
   "metadata": {},
   "outputs": [
    {
     "data": {
      "text/plain": [
       "array([0, 0, 0, ..., 0, 0, 0])"
      ]
     },
     "execution_count": 14,
     "metadata": {},
     "output_type": "execute_result"
    }
   ],
   "source": [
    "from sklearn import preprocessing\n",
    "\n",
    "from sklearn import utils\n",
    "\n",
    "lab_enc = preprocessing.LabelEncoder()\n",
    "\n",
    "encoded = lab_enc.fit_transform(pixY)\n",
    "#print(encoded)\n",
    "\n",
    "pixY= encoded\n",
    "pixY-np.ravel(pixY)"
   ]
  },
  {
   "cell_type": "code",
   "execution_count": 15,
   "metadata": {},
   "outputs": [],
   "source": [
    "#split the dataset pix into 80:20\n",
    "pixX_train, pixX_test, pixY_train, pixY_test = model_selection.train_test_split(pixX, pixY, train_size=0.80,test_size=0.20, random_state = 42)"
   ]
  },
  {
   "cell_type": "code",
   "execution_count": 16,
   "metadata": {},
   "outputs": [
    {
     "name": "stdout",
     "output_type": "stream",
     "text": [
      "pix training X shape is: (1945, 10000)\n",
      "pix training Y shape is: (1945,)\n",
      "pix testing X shape is: (487, 10000)\n",
      "pix testing Y shape is: (487,)\n"
     ]
    }
   ],
   "source": [
    "print ('pix training X shape is:', pixX_train.shape)\n",
    "print ('pix training Y shape is:', pixY_train.shape)\n",
    "print ('pix testing X shape is:', pixX_test.shape)\n",
    "print ('pix testing Y shape is:', pixY_test.shape)"
   ]
  },
  {
   "cell_type": "markdown",
   "metadata": {},
   "source": [
    "# SVM and RF models for pix"
   ]
  },
  {
   "cell_type": "code",
   "execution_count": 21,
   "metadata": {},
   "outputs": [],
   "source": [
    "#SVM liner model\n",
    "from sklearn.svm import SVC\n",
    "model_svm = SVC(kernel = 'linear')\n",
    "clf_svm = model_svm.fit(pixX_train, pixY_train)\n",
    "svm_pix = model_svm.predict(pixX_test)"
   ]
  },
  {
   "cell_type": "code",
   "execution_count": 22,
   "metadata": {},
   "outputs": [],
   "source": [
    "# random forest classifier\n",
    "from sklearn.ensemble import RandomForestClassifier\n",
    "model_rf_pix = RandomForestClassifier(n_estimators = 500, random_state = 42)\n",
    "clf_rf_pix = model_rf_pix.fit(pixX_train, pixY_train)\n",
    "rf_pix = model_rf_pix.predict(pixX_test)"
   ]
  },
  {
   "cell_type": "code",
   "execution_count": 23,
   "metadata": {},
   "outputs": [
    {
     "name": "stdout",
     "output_type": "stream",
     "text": [
      "Accuracy score of SVM for pix is:  92.60780287474333\n",
      "Accuracy score of RF for pix is:  92.81314168377823\n"
     ]
    }
   ],
   "source": [
    "from sklearn.metrics import accuracy_score\n",
    "print('Accuracy score of SVM for pix is: ', accuracy_score(svm_pix, pixY_test)*100)\n",
    "print('Accuracy score of RF for pix is: ', accuracy_score(rf_pix, pixY_test)*100)"
   ]
  },
  {
   "cell_type": "markdown",
   "metadata": {},
   "source": [
    "# ANN for pix"
   ]
  },
  {
   "cell_type": "code",
   "execution_count": 340,
   "metadata": {},
   "outputs": [],
   "source": [
    "pix_X_ANN_train = pixX_train\n",
    "pix_X_ANN_test = pixX_test\n",
    "pix_Y_ANN_train = pixY_train\n",
    "pix_Y_ANN_test = pixY_test"
   ]
  },
  {
   "cell_type": "code",
   "execution_count": 341,
   "metadata": {},
   "outputs": [],
   "source": [
    "#normalise train and test images\n",
    "pix_X_ANN_train = pix_X_ANN_train/255\n",
    "pix_X_ANN_test = pix_X_ANN_test/255"
   ]
  },
  {
   "cell_type": "code",
   "execution_count": 342,
   "metadata": {},
   "outputs": [],
   "source": [
    "#to categorical for labels\n",
    "from keras.utils.np_utils import to_categorical\n",
    "pix_Y_ANN_train = pix_Y_ANN_train\n",
    "pix_Y_ANN_train_cat = to_categorical(pix_Y_ANN_train)\n",
    "pix_Y_ANN_test = pix_Y_ANN_test\n",
    "pix_Y_ANN_test_cat = to_categorical(pix_Y_ANN_test)"
   ]
  },
  {
   "cell_type": "code",
   "execution_count": 343,
   "metadata": {},
   "outputs": [],
   "source": [
    "#building the model\n",
    "import keras\n",
    "from keras.models import Sequential\n",
    "from keras.layers import Dense"
   ]
  },
  {
   "cell_type": "code",
   "execution_count": 344,
   "metadata": {},
   "outputs": [],
   "source": [
    "np.random.seed(123)"
   ]
  },
  {
   "cell_type": "code",
   "execution_count": 428,
   "metadata": {},
   "outputs": [],
   "source": [
    "# Neural network: set the parameters\n",
    "mod_ANN_pix = Sequential()\n",
    "mod_ANN_pix.add(Dense(32, input_shape = (10000,), activation='relu'))# input layer\n",
    "mod_ANN_pix.add(Dense(500, activation='relu')) #hidden layer\n",
    "mod_ANN_pix.add(Dense(39, activation='softmax')) # output layer"
   ]
  },
  {
   "cell_type": "code",
   "execution_count": 429,
   "metadata": {},
   "outputs": [],
   "source": [
    "#compile the model\n",
    "mod_ANN_pix.compile(loss='categorical_crossentropy', optimizer='adam', metrics=['accuracy'])\n"
   ]
  },
  {
   "cell_type": "code",
   "execution_count": 430,
   "metadata": {},
   "outputs": [
    {
     "name": "stdout",
     "output_type": "stream",
     "text": [
      "Epoch 1/5\n",
      "1945/1945 [==============================] - 10s 5ms/step - loss: 2.2057 - accuracy: 0.4201\n",
      "Epoch 2/5\n",
      "1945/1945 [==============================] - 1s 733us/step - loss: 1.1542 - accuracy: 0.6859\n",
      "Epoch 3/5\n",
      "1945/1945 [==============================] - 2s 787us/step - loss: 0.6918 - accuracy: 0.8237\n",
      "Epoch 4/5\n",
      "1945/1945 [==============================] - 2s 832us/step - loss: 0.4836 - accuracy: 0.8643\n",
      "Epoch 5/5\n",
      "1945/1945 [==============================] - 1s 714us/step - loss: 0.4229 - accuracy: 0.8828\n"
     ]
    }
   ],
   "source": [
    "#fit the model\n",
    "history_ANN_pix = mod_ANN_pix.fit(pix_X_ANN_train, pix_Y_ANN_train_cat, epochs=5, batch_size=32)"
   ]
  },
  {
   "cell_type": "code",
   "execution_count": 431,
   "metadata": {},
   "outputs": [],
   "source": [
    "#test on testing set\n",
    "\n",
    "pix_Y_ANN_pred = mod_ANN_pix.predict(pix_X_ANN_test)\n",
    "\n",
    "pred = list()\n",
    "for i in range(len(pix_Y_ANN_pred)):\n",
    "    pred.append(np.argmax(pix_Y_ANN_pred[i]))\n",
    "\n",
    "    \n",
    "test = list()\n",
    "for i in range(len(pix_Y_ANN_test_cat)):\n",
    "    test.append(np.argmax(pix_Y_ANN_test_cat[i]))"
   ]
  },
  {
   "cell_type": "code",
   "execution_count": 432,
   "metadata": {},
   "outputs": [
    {
     "name": "stdout",
     "output_type": "stream",
     "text": [
      "Accuracy of pix data for ANN is: 83.5728952772074\n"
     ]
    }
   ],
   "source": [
    "from sklearn.metrics import accuracy_score\n",
    "\n",
    "a = accuracy_score(pred,test)\n",
    "print('Accuracy of pix data for ANN is:', a*100)"
   ]
  },
  {
   "cell_type": "code",
   "execution_count": 595,
   "metadata": {},
   "outputs": [
    {
     "name": "stdout",
     "output_type": "stream",
     "text": [
      "[ 4 32  9 22 32]\n",
      "[ 4 32  9 22 32]\n"
     ]
    }
   ],
   "source": [
    "# checking the prediction of 5 images\n",
    "\n",
    "predictions = mod_ANN_pix.predict(pix_X_ANN_test[:5])\n",
    "\n",
    "print(np.argmax(predictions, axis=1))\n",
    "\n",
    "print(pix_Y_ANN_test[:5])"
   ]
  },
  {
   "cell_type": "markdown",
   "metadata": {},
   "source": [
    "# CNN for pix data"
   ]
  },
  {
   "cell_type": "code",
   "execution_count": 49,
   "metadata": {},
   "outputs": [],
   "source": [
    "#reshape the pixels data and change in to floats\n",
    "pix_X_train_reshape = pixX_train.reshape(pixX_train.shape[0], 100, 100,1)\n",
    "pix_X_test_reshape = pixX_test.reshape(pixX_test.shape[0],100,100,1)"
   ]
  },
  {
   "cell_type": "code",
   "execution_count": 50,
   "metadata": {},
   "outputs": [],
   "source": [
    "# change to float\n",
    "pix_X_train_reshape = pix_X_train_reshape.astype('float32')\n",
    "pix_X_test_reshape = pix_X_test_reshape.astype('float32')"
   ]
  },
  {
   "cell_type": "code",
   "execution_count": 51,
   "metadata": {},
   "outputs": [],
   "source": [
    "pix_X_train_reshape /= 255\n",
    "pix_X_test_reshape /=255"
   ]
  },
  {
   "cell_type": "code",
   "execution_count": 52,
   "metadata": {},
   "outputs": [],
   "source": [
    "np.random.seed(123)"
   ]
  },
  {
   "cell_type": "code",
   "execution_count": 53,
   "metadata": {},
   "outputs": [],
   "source": [
    "import keras\n",
    "from keras.models import Sequential\n",
    "from keras.layers import Dense, Conv2D, Dropout, Flatten, MaxPooling2D\n",
    "from keras.utils import np_utils"
   ]
  },
  {
   "cell_type": "code",
   "execution_count": 54,
   "metadata": {},
   "outputs": [],
   "source": [
    "#change the labels to categorial\n",
    "\n",
    "pix_Y_train_categorical = np_utils.to_categorical (pixY_train, 39)\n",
    "pix_Y_test_categorical = np_utils.to_categorical (pixY_test, 39)"
   ]
  },
  {
   "cell_type": "code",
   "execution_count": 411,
   "metadata": {},
   "outputs": [],
   "source": [
    "model = Sequential()\n",
    "\n",
    "model.add(Conv2D(32,(5,5), activation = 'relu', input_shape = (100,100,1)))\n",
    "model.add(Conv2D(64,(5,5), activation = 'relu'))\n",
    "model.add(MaxPooling2D(pool_size = (2,2)))\n",
    "model.add(Dropout(0.25))\n",
    "model.add(Flatten())\n",
    "model.add(Dense(300, activation = 'relu'))\n",
    "model.add(Dropout(0.5))\n",
    "model.add(Dense(39, activation = 'softmax'))"
   ]
  },
  {
   "cell_type": "code",
   "execution_count": 412,
   "metadata": {},
   "outputs": [],
   "source": [
    "#compile the model\n",
    "model.compile(loss='categorical_crossentropy',\n",
    "             optimizer='adam',\n",
    "             metrics=['accuracy'])"
   ]
  },
  {
   "cell_type": "code",
   "execution_count": 413,
   "metadata": {},
   "outputs": [
    {
     "name": "stdout",
     "output_type": "stream",
     "text": [
      "Model: \"sequential_30\"\n",
      "_________________________________________________________________\n",
      "Layer (type)                 Output Shape              Param #   \n",
      "=================================================================\n",
      "conv2d_17 (Conv2D)           (None, 96, 96, 32)        832       \n",
      "_________________________________________________________________\n",
      "conv2d_18 (Conv2D)           (None, 92, 92, 64)        51264     \n",
      "_________________________________________________________________\n",
      "max_pooling2d_9 (MaxPooling2 (None, 46, 46, 64)        0         \n",
      "_________________________________________________________________\n",
      "dropout_17 (Dropout)         (None, 46, 46, 64)        0         \n",
      "_________________________________________________________________\n",
      "flatten_9 (Flatten)          (None, 135424)            0         \n",
      "_________________________________________________________________\n",
      "dense_80 (Dense)             (None, 300)               40627500  \n",
      "_________________________________________________________________\n",
      "dropout_18 (Dropout)         (None, 300)               0         \n",
      "_________________________________________________________________\n",
      "dense_81 (Dense)             (None, 39)                11739     \n",
      "=================================================================\n",
      "Total params: 40,691,335\n",
      "Trainable params: 40,691,335\n",
      "Non-trainable params: 0\n",
      "_________________________________________________________________\n"
     ]
    }
   ],
   "source": [
    "model.summary()"
   ]
  },
  {
   "cell_type": "code",
   "execution_count": 414,
   "metadata": {},
   "outputs": [
    {
     "name": "stdout",
     "output_type": "stream",
     "text": [
      "Epoch 1/5\n",
      "1000/1000 [==============================] - 61s 61ms/step - loss: 3.3066 - accuracy: 0.4510\n",
      "Epoch 2/5\n",
      "1000/1000 [==============================] - 59s 59ms/step - loss: 0.4583 - accuracy: 0.8790\n",
      "Epoch 3/5\n",
      "1000/1000 [==============================] - 61s 61ms/step - loss: 0.1072 - accuracy: 0.9720\n",
      "Epoch 4/5\n",
      "1000/1000 [==============================] - 60s 60ms/step - loss: 0.0396 - accuracy: 0.9910\n",
      "Epoch 5/5\n",
      "1000/1000 [==============================] - 59s 59ms/step - loss: 0.0157 - accuracy: 0.9960\n"
     ]
    },
    {
     "data": {
      "text/plain": [
       "<keras.callbacks.callbacks.History at 0x24b39ce10>"
      ]
     },
     "execution_count": 414,
     "metadata": {},
     "output_type": "execute_result"
    }
   ],
   "source": [
    "#fit the model on training data\n",
    "n=1000\n",
    "model.fit(pix_X_train_reshape[:n], pix_Y_train_categorical [:n],\n",
    "         batch_size = 32, epochs = 5, verbose =1)"
   ]
  },
  {
   "cell_type": "code",
   "execution_count": 415,
   "metadata": {},
   "outputs": [
    {
     "name": "stdout",
     "output_type": "stream",
     "text": [
      "Loss:  0.6103542872400499 \n",
      "Accuracy when n=1000:  87.67967224121094\n"
     ]
    }
   ],
   "source": [
    "#evaluate the model\n",
    "loss, accuracy = model.evaluate(pix_X_test_reshape[:n], pix_Y_test_categorical[:n], verbose=0)\n",
    "print('Loss: ',loss,'\\nAccuracy when n=1000: ', accuracy*100)\n",
    "#Loss:  0.9973712635040283 Accuracy:  87.00000047683716 when n=100\n"
   ]
  },
  {
   "cell_type": "code",
   "execution_count": 600,
   "metadata": {},
   "outputs": [
    {
     "name": "stdout",
     "output_type": "stream",
     "text": [
      "[ 4 32  9 22 32]\n",
      "[ 4 32  9 22 32]\n"
     ]
    }
   ],
   "source": [
    "# checking the prediction of 5 images\n",
    "\n",
    "predictions = model.predict(pix_X_test_reshape[:5])\n",
    "\n",
    "print(np.argmax(predictions, axis=1))\n",
    "\n",
    "print(pixY_test[:5])"
   ]
  },
  {
   "cell_type": "markdown",
   "metadata": {},
   "source": [
    "# Experiment 2: class decomposition dataset (pix_cd)"
   ]
  },
  {
   "cell_type": "code",
   "execution_count": 70,
   "metadata": {},
   "outputs": [
    {
     "data": {
      "text/plain": [
       "(2432, 10001)"
      ]
     },
     "execution_count": 70,
     "metadata": {},
     "output_type": "execute_result"
    }
   ],
   "source": [
    "#load Symbols_pixel_cd as pix_cd:\n",
    "pix_cd = pd.read_csv('Symbols_pixel_cd.csv', delimiter = ',', header=None)\n",
    "#numpy array\n",
    "pix_cd = np.array(pix_cd)\n",
    "pix_cd.shape"
   ]
  },
  {
   "cell_type": "code",
   "execution_count": 72,
   "metadata": {},
   "outputs": [
    {
     "name": "stdout",
     "output_type": "stream",
     "text": [
      "[[0 0 0 ... 255 255 255]\n",
      " [255 255 255 ... 0 0 0]\n",
      " [255 255 255 ... 255 255 255]\n",
      " ...\n",
      " [255 255 255 ... 255 255 255]\n",
      " [255 255 255 ... 255 255 255]\n",
      " [255 255 255 ... 255 255 255]]\n",
      "[['Arrowhead_c1']\n",
      " ['Arrowhead_c1']\n",
      " ['Arrowhead_c3']\n",
      " ...\n",
      " ['Vessel_c0']\n",
      " ['Vessel_c0']\n",
      " ['Vessel_c0']]\n"
     ]
    },
    {
     "data": {
      "text/plain": [
       "(2432, 1)"
      ]
     },
     "execution_count": 72,
     "metadata": {},
     "output_type": "execute_result"
    }
   ],
   "source": [
    "pix_cd\n",
    "cdX = pix_cd[:,:-1]\n",
    "cdY = pix_cd[:,-1:]\n",
    "print (cdX)\n",
    "print(cdY)\n",
    "cdY.shape"
   ]
  },
  {
   "cell_type": "code",
   "execution_count": 74,
   "metadata": {},
   "outputs": [],
   "source": [
    "from sklearn import preprocessing\n",
    "\n",
    "from sklearn import utils\n",
    "\n",
    "lab_enc = preprocessing.LabelEncoder()\n",
    "\n",
    "encoded = lab_enc.fit_transform(cdY)\n",
    "#print(encoded)\n",
    "\n",
    "cdY= encoded\n",
    "\n",
    "cdY = np.ravel(cdY)"
   ]
  },
  {
   "cell_type": "code",
   "execution_count": 75,
   "metadata": {},
   "outputs": [],
   "source": [
    "#split the dataset hog into 80:20\n",
    "cdX_train, cdX_test, cdY_train, cdY_test = model_selection.train_test_split(cdX, cdY, train_size=0.80,test_size=0.20, random_state=44)\n"
   ]
  },
  {
   "cell_type": "code",
   "execution_count": 76,
   "metadata": {},
   "outputs": [
    {
     "name": "stdout",
     "output_type": "stream",
     "text": [
      "cd training X shape is: (1945, 10000)\n",
      "cd training Y shape is: (1945,)\n",
      "cd testing X shape is: (487, 10000)\n",
      "cd testing Y shape is: (487,)\n"
     ]
    }
   ],
   "source": [
    "print ('cd training X shape is:', cdX_train.shape)\n",
    "print ('cd training Y shape is:', cdY_train.shape)\n",
    "print ('cd testing X shape is:', cdX_test.shape)\n",
    "print ('cd testing Y shape is:', cdY_test.shape)"
   ]
  },
  {
   "cell_type": "code",
   "execution_count": 77,
   "metadata": {},
   "outputs": [],
   "source": [
    "#SVM liner model\n",
    "from sklearn.svm import SVC\n",
    "model_svm = SVC(kernel = 'linear')\n",
    "clf_svm = model_svm.fit(cdX_train, cdY_train)\n",
    "svm_cd = model_svm.predict(cdX_test)"
   ]
  },
  {
   "cell_type": "code",
   "execution_count": 78,
   "metadata": {},
   "outputs": [],
   "source": [
    "# random forest classifier\n",
    "from sklearn.ensemble import RandomForestClassifier\n",
    "model_rf_cd = RandomForestClassifier(n_estimators = 500, random_state = 42)\n",
    "clf_rf_cd = model_rf_cd.fit(cdX_train, cdY_train)\n",
    "rf_cd = model_rf_cd.predict(cdX_test)"
   ]
  },
  {
   "cell_type": "code",
   "execution_count": 79,
   "metadata": {},
   "outputs": [
    {
     "name": "stdout",
     "output_type": "stream",
     "text": [
      "Accuracy score of SVM for cd is:  85.01026694045176\n",
      "Accuracy score of RF for cd is:  81.93018480492813\n"
     ]
    }
   ],
   "source": [
    "from sklearn.metrics import accuracy_score\n",
    "print('Accuracy score of SVM for cd is: ', accuracy_score(svm_cd, cdY_test)*100)\n",
    "print('Accuracy score of RF for cd is: ', accuracy_score(rf_cd, cdY_test)*100)"
   ]
  },
  {
   "cell_type": "markdown",
   "metadata": {},
   "source": [
    "# ANN on pix_cd dataset"
   ]
  },
  {
   "cell_type": "code",
   "execution_count": 80,
   "metadata": {},
   "outputs": [
    {
     "name": "stdout",
     "output_type": "stream",
     "text": [
      "cd training X shape is: (1945, 10000)\n",
      "cd training Y shape is: (1945,)\n",
      "cd testing X shape is: (487, 10000)\n",
      "cd testing Y shape is: (487,)\n"
     ]
    }
   ],
   "source": [
    "print ('cd training X shape is:', cdX_train.shape)\n",
    "print ('cd training Y shape is:', cdY_train.shape)\n",
    "print ('cd testing X shape is:', cdX_test.shape)\n",
    "print ('cd testing Y shape is:', cdY_test.shape)"
   ]
  },
  {
   "cell_type": "code",
   "execution_count": 81,
   "metadata": {},
   "outputs": [],
   "source": [
    "cd_X_ANN_train = cdX_train\n",
    "cd_X_ANN_test = cdX_test\n",
    "cd_Y_ANN_train = cdY_train\n",
    "cd_Y_ANN_test = cdY_test\n"
   ]
  },
  {
   "cell_type": "code",
   "execution_count": 82,
   "metadata": {},
   "outputs": [
    {
     "data": {
      "text/plain": [
       "array([[1.0, 1.0, 1.0, ..., 1.0, 1.0, 1.0],\n",
       "       [1.0, 1.0, 1.0, ..., 1.0, 1.0, 1.0],\n",
       "       [1.0, 1.0, 1.0, ..., 1.0, 1.0, 1.0],\n",
       "       ...,\n",
       "       [1.0, 1.0, 1.0, ..., 1.0, 1.0, 1.0],\n",
       "       [1.0, 1.0, 1.0, ..., 1.0, 1.0, 1.0],\n",
       "       [1.0, 1.0, 1.0, ..., 1.0, 1.0, 1.0]], dtype=object)"
      ]
     },
     "execution_count": 82,
     "metadata": {},
     "output_type": "execute_result"
    }
   ],
   "source": [
    "#normalised testing and training images\n",
    "cd_X_ANN_train_norm = cd_X_ANN_train/255\n",
    "cd_X_ANN_train_norm\n",
    "\n",
    "cd_X_ANN_test_norm = cd_X_ANN_test/255\n",
    "cd_X_ANN_test_norm"
   ]
  },
  {
   "cell_type": "code",
   "execution_count": 83,
   "metadata": {},
   "outputs": [],
   "source": [
    "#change the labels to categorical\n",
    "\n",
    "from keras.utils.np_utils import to_categorical\n",
    "cd_Y_ANN_train_cat = to_categorical(cd_Y_ANN_train)\n",
    "\n",
    "cd_Y_ANN_test_cat = to_categorical(cd_Y_ANN_test)"
   ]
  },
  {
   "cell_type": "code",
   "execution_count": 381,
   "metadata": {},
   "outputs": [],
   "source": [
    "np.random.seed(123)"
   ]
  },
  {
   "cell_type": "code",
   "execution_count": 578,
   "metadata": {},
   "outputs": [],
   "source": [
    "# Neural network\n",
    "cd_model = Sequential()\n",
    "cd_model.add(Dense(32, input_dim=10000, activation='relu'))\n",
    "cd_model.add(Dense(500, activation='relu'))\n",
    "cd_model.add(Dense(65, activation='softmax'))"
   ]
  },
  {
   "cell_type": "code",
   "execution_count": 579,
   "metadata": {},
   "outputs": [],
   "source": [
    "cd_model.compile(loss='categorical_crossentropy', optimizer='rmsprop', metrics=['accuracy'])"
   ]
  },
  {
   "cell_type": "code",
   "execution_count": 583,
   "metadata": {},
   "outputs": [
    {
     "name": "stdout",
     "output_type": "stream",
     "text": [
      "Epoch 1/5\n",
      "1945/1945 [==============================] - 1s 645us/step - loss: 3.8556 - accuracy: 0.0483\n",
      "Epoch 2/5\n",
      "1945/1945 [==============================] - 1s 634us/step - loss: 3.8551 - accuracy: 0.0524\n",
      "Epoch 3/5\n",
      "1945/1945 [==============================] - 1s 638us/step - loss: 3.8551 - accuracy: 0.0524\n",
      "Epoch 4/5\n",
      "1945/1945 [==============================] - 1s 644us/step - loss: 3.8547 - accuracy: 0.0483\n",
      "Epoch 5/5\n",
      "1945/1945 [==============================] - 1s 687us/step - loss: 3.8554 - accuracy: 0.0499\n"
     ]
    }
   ],
   "source": [
    "history = cd_model.fit(cd_X_ANN_train, cd_Y_ANN_train_cat, epochs=5, batch_size=64)"
   ]
  },
  {
   "cell_type": "code",
   "execution_count": 584,
   "metadata": {},
   "outputs": [],
   "source": [
    "#prediction on testing set\n",
    "cd_Y_pred = cd_model.predict(cd_X_ANN_test)\n",
    "\n",
    "pred = list()\n",
    "for i in range(len(cd_Y_pred)):\n",
    "    pred.append(np.argmax(cd_Y_pred[i]))\n",
    "\n",
    "    \n",
    "test = list()\n",
    "for i in range(len(cd_Y_ANN_test_cat)):\n",
    "    test.append(np.argmax(cd_Y_ANN_test_cat[i]))"
   ]
  },
  {
   "cell_type": "code",
   "execution_count": 585,
   "metadata": {},
   "outputs": [
    {
     "name": "stdout",
     "output_type": "stream",
     "text": [
      "Accuracy for pix_cd dataset for ANN is: 4.517453798767967\n"
     ]
    }
   ],
   "source": [
    "from sklearn.metrics import accuracy_score\n",
    "a = accuracy_score(pred,test)\n",
    "print('Accuracy for pix_cd dataset for ANN is:', a*100)\n",
    "#Accuracy for pix_cd dataset for ANN is: 3.696098562628337(adam optimiser)"
   ]
  },
  {
   "cell_type": "code",
   "execution_count": 586,
   "metadata": {},
   "outputs": [
    {
     "name": "stdout",
     "output_type": "stream",
     "text": [
      "Train on 1945 samples, validate on 487 samples\n",
      "Epoch 1/5\n",
      "1945/1945 [==============================] - 2s 831us/step - loss: 3.8544 - accuracy: 0.0524 - val_loss: 4.0598 - val_accuracy: 0.0452\n",
      "Epoch 2/5\n",
      "1945/1945 [==============================] - 2s 795us/step - loss: 3.8549 - accuracy: 0.0509 - val_loss: 4.0705 - val_accuracy: 0.0452\n",
      "Epoch 3/5\n",
      "1945/1945 [==============================] - 1s 764us/step - loss: 3.8544 - accuracy: 0.0483 - val_loss: 4.0701 - val_accuracy: 0.0452\n",
      "Epoch 4/5\n",
      "1945/1945 [==============================] - 1s 768us/step - loss: 3.8548 - accuracy: 0.0494 - val_loss: 4.0681 - val_accuracy: 0.0452\n",
      "Epoch 5/5\n",
      "1945/1945 [==============================] - 2s 773us/step - loss: 3.8544 - accuracy: 0.0540 - val_loss: 4.0694 - val_accuracy: 0.0452\n"
     ]
    }
   ],
   "source": [
    "history = cd_model.fit(cd_X_ANN_train, cd_Y_ANN_train_cat,validation_data = (cd_X_ANN_test,cd_Y_ANN_test_cat), epochs=5, batch_size=64)"
   ]
  },
  {
   "cell_type": "code",
   "execution_count": 587,
   "metadata": {},
   "outputs": [
    {
     "data": {
      "image/png": "[encoded data removed]",
      "text/plain": [
       "<Figure size 432x288 with 1 Axes>"
      ]
     },
     "metadata": {
      "needs_background": "light"
     },
     "output_type": "display_data"
    }
   ],
   "source": [
    "#visualise\n",
    "import matplotlib.pyplot as plt\n",
    "plt.plot(history.history['accuracy'])\n",
    "plt.plot(history.history['val_accuracy'])\n",
    "plt.title('Model accuracy')\n",
    "plt.ylabel('Accuracy')\n",
    "plt.xlabel('Epoch')\n",
    "plt.legend(['Training', 'Testing'], loc='upper left')\n",
    "plt.show()"
   ]
  },
  {
   "cell_type": "code",
   "execution_count": 588,
   "metadata": {},
   "outputs": [
    {
     "data": {
      "image/png": "[encoded data removed]",
      "text/plain": [
       "<Figure size 432x288 with 1 Axes>"
      ]
     },
     "metadata": {
      "needs_background": "light"
     },
     "output_type": "display_data"
    }
   ],
   "source": [
    "import matplotlib.pyplot as plt\n",
    "\n",
    "plt.plot(history.history['loss']) \n",
    "plt.plot(history.history['val_loss']) \n",
    "plt.title('Model loss') \n",
    "plt.ylabel('Loss') \n",
    "plt.xlabel('Epoch') \n",
    "plt.legend(['Training', 'Testing'], loc='upper left') \n",
    "plt.show()"
   ]
  },
  {
   "cell_type": "markdown",
   "metadata": {},
   "source": [
    "# CNN for pix_cd dataset"
   ]
  },
  {
   "cell_type": "code",
   "execution_count": 99,
   "metadata": {},
   "outputs": [],
   "source": [
    "cd_X_CNN_train = cd_X_ANN_train\n",
    "cd_X_CNN_test = cd_X_ANN_test\n",
    "cd_Y_CNN_train = cd_Y_ANN_train\n",
    "cd_Y_CNN_test = cd_Y_ANN_test"
   ]
  },
  {
   "cell_type": "code",
   "execution_count": 102,
   "metadata": {},
   "outputs": [],
   "source": [
    "#reshape the pixels data and change in to floats\n",
    "cd_X_CNN_train_reshape = cd_X_CNN_train.reshape(cd_X_CNN_train.shape[0], 100, 100,1)\n",
    "cd_X_CNN_test_reshape = cd_X_CNN_test.reshape(cd_X_CNN_test.shape[0],100,100,1)"
   ]
  },
  {
   "cell_type": "code",
   "execution_count": 104,
   "metadata": {},
   "outputs": [],
   "source": [
    "# change to float\n",
    "cd_X_CNN_train_reshape = cd_X_CNN_train_reshape.astype('float32')\n",
    "cd_X_CNN_test_reshape = cd_X_CNN_test_reshape.astype('float32')"
   ]
  },
  {
   "cell_type": "code",
   "execution_count": 105,
   "metadata": {},
   "outputs": [
    {
     "data": {
      "text/plain": [
       "(1945, 100, 100, 1)"
      ]
     },
     "execution_count": 105,
     "metadata": {},
     "output_type": "execute_result"
    }
   ],
   "source": [
    "cd_X_CNN_train_reshape /= 255\n",
    "cd_X_CNN_test_reshape /=255\n",
    "cd_X_CNN_train_reshape.shape"
   ]
  },
  {
   "cell_type": "code",
   "execution_count": 106,
   "metadata": {},
   "outputs": [],
   "source": [
    "np.random.seed(123)"
   ]
  },
  {
   "cell_type": "code",
   "execution_count": 107,
   "metadata": {},
   "outputs": [],
   "source": [
    "import keras\n",
    "from keras.models import Sequential\n",
    "from keras.layers import Dense, Conv2D, Dropout, Flatten, MaxPooling2D\n",
    "from keras.utils import np_utils"
   ]
  },
  {
   "cell_type": "code",
   "execution_count": 109,
   "metadata": {},
   "outputs": [],
   "source": [
    "#change the labels to categorial\n",
    "\n",
    "cd_Y_CNN_train_cat = np_utils.to_categorical (cd_Y_CNN_train, 65)\n",
    "cd_Y_CNN_test_cat = np_utils.to_categorical (cd_Y_CNN_test, 65)"
   ]
  },
  {
   "cell_type": "code",
   "execution_count": 401,
   "metadata": {},
   "outputs": [],
   "source": [
    "#build the model\n",
    "\n",
    "model1 = Sequential()\n",
    "\n",
    "model1.add(Conv2D(32,(5,5), activation = 'relu', input_shape = (100,100,1)))\n",
    "model1.add(Conv2D(64,(5,5), activation = 'relu'))\n",
    "model1.add(MaxPooling2D(pool_size = (2,2)))\n",
    "model1.add(Dropout(0.25))\n",
    "model1.add(Flatten())\n",
    "model1.add(Dense(500, activation = 'relu'))\n",
    "model1.add(Dropout(0.5))\n",
    "model1.add(Dense(65, activation = 'softmax'))"
   ]
  },
  {
   "cell_type": "code",
   "execution_count": 402,
   "metadata": {},
   "outputs": [
    {
     "name": "stdout",
     "output_type": "stream",
     "text": [
      "Model: \"sequential_28\"\n",
      "_________________________________________________________________\n",
      "Layer (type)                 Output Shape              Param #   \n",
      "=================================================================\n",
      "conv2d_13 (Conv2D)           (None, 96, 96, 32)        832       \n",
      "_________________________________________________________________\n",
      "conv2d_14 (Conv2D)           (None, 92, 92, 64)        51264     \n",
      "_________________________________________________________________\n",
      "max_pooling2d_7 (MaxPooling2 (None, 46, 46, 64)        0         \n",
      "_________________________________________________________________\n",
      "dropout_13 (Dropout)         (None, 46, 46, 64)        0         \n",
      "_________________________________________________________________\n",
      "flatten_7 (Flatten)          (None, 135424)            0         \n",
      "_________________________________________________________________\n",
      "dense_76 (Dense)             (None, 500)               67712500  \n",
      "_________________________________________________________________\n",
      "dropout_14 (Dropout)         (None, 500)               0         \n",
      "_________________________________________________________________\n",
      "dense_77 (Dense)             (None, 65)                32565     \n",
      "=================================================================\n",
      "Total params: 67,797,161\n",
      "Trainable params: 67,797,161\n",
      "Non-trainable params: 0\n",
      "_________________________________________________________________\n"
     ]
    }
   ],
   "source": [
    "model1.summary()"
   ]
  },
  {
   "cell_type": "code",
   "execution_count": 403,
   "metadata": {},
   "outputs": [],
   "source": [
    "#compile the model\n",
    "model1.compile(loss='categorical_crossentropy',\n",
    "             optimizer='adam',\n",
    "             metrics=['accuracy'])"
   ]
  },
  {
   "cell_type": "code",
   "execution_count": 404,
   "metadata": {},
   "outputs": [
    {
     "name": "stdout",
     "output_type": "stream",
     "text": [
      "Epoch 1/5\n",
      "1000/1000 [==============================] - 113s 113ms/step - loss: 3.3342 - accuracy: 0.3110\n",
      "Epoch 2/5\n",
      "1000/1000 [==============================] - 119s 119ms/step - loss: 0.9152 - accuracy: 0.7510\n",
      "Epoch 3/5\n",
      "1000/1000 [==============================] - 102s 102ms/step - loss: 0.3797 - accuracy: 0.8890\n",
      "Epoch 4/5\n",
      "1000/1000 [==============================] - 95s 95ms/step - loss: 0.2198 - accuracy: 0.9290\n",
      "Epoch 5/5\n",
      "1000/1000 [==============================] - 98s 98ms/step - loss: 0.1639 - accuracy: 0.9460\n"
     ]
    },
    {
     "data": {
      "text/plain": [
       "<keras.callbacks.callbacks.History at 0x249d73d68>"
      ]
     },
     "execution_count": 404,
     "metadata": {},
     "output_type": "execute_result"
    }
   ],
   "source": [
    "#fit the model on training data\n",
    "n=1000\n",
    "model1.fit(cd_X_CNN_train_reshape[:n], cd_Y_CNN_train_cat[:n],\n",
    "         batch_size = 32, epochs = 5, verbose =1)"
   ]
  },
  {
   "cell_type": "code",
   "execution_count": 405,
   "metadata": {},
   "outputs": [
    {
     "name": "stdout",
     "output_type": "stream",
     "text": [
      "Loss for pix_cd with 5 X 5 filter (n=1000) :  1.2446915809623516 \n",
      "Accuracy:  71.66324257850647\n"
     ]
    }
   ],
   "source": [
    "#evaluate the model\n",
    "loss, accuracy = model1.evaluate(cd_X_CNN_test_reshape[:n], cd_Y_CNN_test_cat[:n], verbose=0)\n",
    "print('Loss for pix_cd with 5 X 5 filter (n=1000) : ',loss,'\\nAccuracy: ', accuracy*100)\n",
    "\n",
    "\n",
    "#Loss for pix_cd with 5 X 5 filter :  6.989111995697021 #Accuracy:  34.99999940395355 (n=100)\n",
    "\n",
    "#Loss for pix_cd with 5 X 5 filter (n=500) :  2.0575657243356567 #Accuracy:  63.655030727386475"
   ]
  },
  {
   "cell_type": "code",
   "execution_count": null,
   "metadata": {},
   "outputs": [],
   "source": []
  },
  {
   "cell_type": "code",
   "execution_count": 406,
   "metadata": {},
   "outputs": [],
   "source": [
    "# model with 3X3 filter\n",
    "#build the model\n",
    "\n",
    "model2 = Sequential()\n",
    "\n",
    "model2.add(Conv2D(32,(3,3), activation = 'relu', input_shape = (100,100,1)))\n",
    "model2.add(Conv2D(64,(3,3), activation = 'relu'))\n",
    "model2.add(MaxPooling2D(pool_size = (2,2)))\n",
    "model2.add(Dropout(0.25))\n",
    "model2.add(Flatten())\n",
    "model2.add(Dense(500, activation = 'relu'))\n",
    "model2.add(Dropout(0.5))\n",
    "model2.add(Dense(65, activation = 'softmax'))"
   ]
  },
  {
   "cell_type": "code",
   "execution_count": 407,
   "metadata": {},
   "outputs": [
    {
     "name": "stdout",
     "output_type": "stream",
     "text": [
      "Model: \"sequential_29\"\n",
      "_________________________________________________________________\n",
      "Layer (type)                 Output Shape              Param #   \n",
      "=================================================================\n",
      "conv2d_15 (Conv2D)           (None, 98, 98, 32)        320       \n",
      "_________________________________________________________________\n",
      "conv2d_16 (Conv2D)           (None, 96, 96, 64)        18496     \n",
      "_________________________________________________________________\n",
      "max_pooling2d_8 (MaxPooling2 (None, 48, 48, 64)        0         \n",
      "_________________________________________________________________\n",
      "dropout_15 (Dropout)         (None, 48, 48, 64)        0         \n",
      "_________________________________________________________________\n",
      "flatten_8 (Flatten)          (None, 147456)            0         \n",
      "_________________________________________________________________\n",
      "dense_78 (Dense)             (None, 500)               73728500  \n",
      "_________________________________________________________________\n",
      "dropout_16 (Dropout)         (None, 500)               0         \n",
      "_________________________________________________________________\n",
      "dense_79 (Dense)             (None, 65)                32565     \n",
      "=================================================================\n",
      "Total params: 73,779,881\n",
      "Trainable params: 73,779,881\n",
      "Non-trainable params: 0\n",
      "_________________________________________________________________\n"
     ]
    }
   ],
   "source": [
    "model2.summary()"
   ]
  },
  {
   "cell_type": "code",
   "execution_count": 408,
   "metadata": {},
   "outputs": [],
   "source": [
    "#compile the model\n",
    "model2.compile(loss='categorical_crossentropy',\n",
    "             optimizer='adam',\n",
    "             metrics=['accuracy'])"
   ]
  },
  {
   "cell_type": "code",
   "execution_count": 409,
   "metadata": {},
   "outputs": [
    {
     "name": "stdout",
     "output_type": "stream",
     "text": [
      "Epoch 1/5\n",
      "1000/1000 [==============================] - 99s 99ms/step - loss: 4.0358 - accuracy: 0.2550\n",
      "Epoch 2/5\n",
      "1000/1000 [==============================] - 109s 109ms/step - loss: 1.1358 - accuracy: 0.7130\n",
      "Epoch 3/5\n",
      "1000/1000 [==============================] - 103s 103ms/step - loss: 0.4269 - accuracy: 0.8870\n",
      "Epoch 4/5\n",
      "1000/1000 [==============================] - 114s 114ms/step - loss: 0.2422 - accuracy: 0.9290\n",
      "Epoch 5/5\n",
      "1000/1000 [==============================] - 118s 118ms/step - loss: 0.1544 - accuracy: 0.9580\n"
     ]
    },
    {
     "data": {
      "text/plain": [
       "<keras.callbacks.callbacks.History at 0x2b7332a90>"
      ]
     },
     "execution_count": 409,
     "metadata": {},
     "output_type": "execute_result"
    }
   ],
   "source": [
    "#fit the model on training data\n",
    "n=1000\n",
    "model2.fit(cd_X_CNN_train_reshape[:n], cd_Y_CNN_train_cat[:n],\n",
    "         batch_size = 32, epochs = 5, verbose =1)"
   ]
  },
  {
   "cell_type": "code",
   "execution_count": 410,
   "metadata": {},
   "outputs": [
    {
     "name": "stdout",
     "output_type": "stream",
     "text": [
      "Loss for pix_cd with 3 X 3 filter (n=1000) :  1.150816768101843 \n",
      "Accuracy:  72.07392454147339\n"
     ]
    }
   ],
   "source": [
    "#evaluate the model\n",
    "loss, accuracy = model2.evaluate(cd_X_CNN_test_reshape[:n], cd_Y_CNN_test_cat[:n], verbose=0)\n",
    "print('Loss for pix_cd with 3 X 3 filter (n=1000) : ',loss,'\\nAccuracy: ', accuracy*100)\n",
    "#Loss for pix_cd with 3 X 3 filter :  1.7374980904972774 #Accuracy:  62.628334760665894 (n=500)"
   ]
  },
  {
   "cell_type": "markdown",
   "metadata": {},
   "source": [
    "# Experiment 3: hog dataset"
   ]
  },
  {
   "cell_type": "code",
   "execution_count": 144,
   "metadata": {},
   "outputs": [
    {
     "data": {
      "text/plain": [
       "(2432, 1801)"
      ]
     },
     "execution_count": 144,
     "metadata": {},
     "output_type": "execute_result"
    }
   ],
   "source": [
    "#load symbols_hog as hog\n",
    "hog = pd.read_csv('Symbols_hog.csv', delimiter = ',', header=None)\n",
    "#change to numpy array\n",
    "hog = np.array(hog)\n",
    "hog.shape"
   ]
  },
  {
   "cell_type": "code",
   "execution_count": 145,
   "metadata": {},
   "outputs": [
    {
     "name": "stdout",
     "output_type": "stream",
     "text": [
      "[[0.0 0.0 0.0 ... 0.0 0.0 0.0]\n",
      " [0.0 0.0 0.0 ... 0.0 0.0 0.0]\n",
      " [0.0 0.0 0.0 ... 0.0 0.0 0.0]\n",
      " ...\n",
      " [0.5000780402264127 0.0 0.0 ... 0.0 0.0 0.0]\n",
      " [0.6113406388917176 0.0 0.0 ... 0.0 0.0 0.0]\n",
      " [0.0 0.0 0.0 ... 0.0 0.0 0.0]]\n",
      "[['Arrowhead']\n",
      " ['Arrowhead']\n",
      " ['Arrowhead']\n",
      " ...\n",
      " ['Vessel']\n",
      " ['Vessel']\n",
      " ['Vessel']]\n"
     ]
    },
    {
     "data": {
      "text/plain": [
       "2432"
      ]
     },
     "execution_count": 145,
     "metadata": {},
     "output_type": "execute_result"
    }
   ],
   "source": [
    "#hog\n",
    "hog\n",
    "hogX = hog [:,:-1]\n",
    "hogY = hog [:,-1:]\n",
    "print(hogX)\n",
    "print (hogY)\n",
    "len(hogY) #2432"
   ]
  },
  {
   "cell_type": "code",
   "execution_count": 147,
   "metadata": {},
   "outputs": [
    {
     "name": "stdout",
     "output_type": "stream",
     "text": [
      "[ 0  0  0 ... 38 38 38]\n"
     ]
    }
   ],
   "source": [
    "from sklearn import preprocessing\n",
    "\n",
    "from sklearn import utils\n",
    "\n",
    "lab_enc = preprocessing.LabelEncoder()\n",
    "\n",
    "encoded = lab_enc.fit_transform(hogY)\n",
    "\n",
    "hogY= encoded\n",
    "print(hogY)\n",
    "type(hogY)\n",
    "hogY.shape\n",
    "hogY = np.ravel(hogY)"
   ]
  },
  {
   "cell_type": "code",
   "execution_count": 148,
   "metadata": {},
   "outputs": [
    {
     "name": "stdout",
     "output_type": "stream",
     "text": [
      "hog training X shape is: (1945, 1800)\n",
      "hog training Y shape is: (1945,)\n",
      "hog testing X shape is: (487, 1800)\n",
      "hog testing Y shape is: (487,)\n"
     ]
    }
   ],
   "source": [
    "#split the dataset hog into 80:20\n",
    "hogX_train, hogX_test, hogY_train, hogY_test = model_selection.train_test_split(hogX, hogY, train_size=0.80,test_size=0.20, random_state=42)\n",
    "\n",
    "print('hog training X shape is:',hogX_train.shape)\n",
    "print('hog training Y shape is:',hogY_train.shape)\n",
    "print('hog testing X shape is:',hogX_test.shape)\n",
    "print('hog testing Y shape is:',hogY_test.shape)"
   ]
  },
  {
   "cell_type": "code",
   "execution_count": 601,
   "metadata": {},
   "outputs": [],
   "source": [
    "#SVM liner model\n",
    "from sklearn.svm import SVC\n",
    "model_svm = SVC(kernel = 'linear')\n",
    "clf_svm = model_svm.fit(hogX_train, hogY_train)\n",
    "svm_hog = model_svm.predict(hogX_test)\n"
   ]
  },
  {
   "cell_type": "code",
   "execution_count": 152,
   "metadata": {},
   "outputs": [],
   "source": [
    "# random forest classifier\n",
    "from sklearn.ensemble import RandomForestClassifier\n",
    "model_rf_hog = RandomForestClassifier(n_estimators = 500, random_state = 42)\n",
    "clf_rf_hog = model_rf_hog.fit(hogX_train, hogY_train)\n",
    "rf_hog = model_rf_hog.predict(hogX_test)"
   ]
  },
  {
   "cell_type": "code",
   "execution_count": 153,
   "metadata": {},
   "outputs": [
    {
     "name": "stdout",
     "output_type": "stream",
     "text": [
      "Accuracy score of SVM for hog dataset is:  94.8665297741273\n",
      "Accuracy score of RF for hog dataset is:  94.04517453798768\n"
     ]
    }
   ],
   "source": [
    "from sklearn.metrics import accuracy_score\n",
    "print('Accuracy score of SVM for hog dataset is: ', accuracy_score(svm_hog, hogY_test)*100)\n",
    "print('Accuracy score of RF for hog dataset is: ', accuracy_score(rf_hog, hogY_test)*100)"
   ]
  },
  {
   "cell_type": "markdown",
   "metadata": {},
   "source": [
    "# ANN on hog dataset"
   ]
  },
  {
   "cell_type": "code",
   "execution_count": 154,
   "metadata": {},
   "outputs": [
    {
     "name": "stdout",
     "output_type": "stream",
     "text": [
      "hog training X shape is: (1945, 1800)\n",
      "hog training Y shape is: (1945,)\n",
      "hog testing X shape is: (487, 1800)\n",
      "hog testing Y shape is: (487,)\n"
     ]
    }
   ],
   "source": [
    "print('hog training X shape is:',hogX_train.shape)\n",
    "print('hog training Y shape is:',hogY_train.shape)\n",
    "print('hog testing X shape is:',hogX_test.shape)\n",
    "print('hog testing Y shape is:',hogY_test.shape)"
   ]
  },
  {
   "cell_type": "code",
   "execution_count": 155,
   "metadata": {},
   "outputs": [],
   "source": [
    "hog_X_ANN_train = hogX_train\n",
    "hog_X_ANN_test = hogX_test\n",
    "hog_Y_ANN_train = hogY_train\n",
    "hog_Y_ANN_test = hogY_test"
   ]
  },
  {
   "cell_type": "code",
   "execution_count": 160,
   "metadata": {},
   "outputs": [],
   "source": [
    "#change the labels to categorical\n",
    "\n",
    "from keras.utils.np_utils import to_categorical\n",
    "hog_Y_ANN_train_cat = to_categorical(hog_Y_ANN_train)\n",
    "\n",
    "hog_Y_ANN_test_cat = to_categorical(hog_Y_ANN_test)\n"
   ]
  },
  {
   "cell_type": "code",
   "execution_count": 161,
   "metadata": {},
   "outputs": [],
   "source": [
    "np.random.seed(123)"
   ]
  },
  {
   "cell_type": "code",
   "execution_count": 453,
   "metadata": {},
   "outputs": [],
   "source": [
    "# Neural network\n",
    "hog_model = Sequential()\n",
    "hog_model.add(Dense(64, input_dim=1800, activation='relu'))\n",
    "hog_model.add(Dense(300, activation='relu'))\n",
    "hog_model.add(Dense(39, activation='softmax'))"
   ]
  },
  {
   "cell_type": "code",
   "execution_count": 454,
   "metadata": {},
   "outputs": [],
   "source": [
    "hog_model.compile(loss='categorical_crossentropy', optimizer='adam', metrics=['accuracy'])"
   ]
  },
  {
   "cell_type": "code",
   "execution_count": 455,
   "metadata": {},
   "outputs": [
    {
     "name": "stdout",
     "output_type": "stream",
     "text": [
      "Epoch 1/20\n",
      "1945/1945 [==============================] - 2s 1ms/step - loss: 2.7540 - accuracy: 0.3039\n",
      "Epoch 2/20\n",
      "1945/1945 [==============================] - 1s 411us/step - loss: 1.5349 - accuracy: 0.6324\n",
      "Epoch 3/20\n",
      "1945/1945 [==============================] - 1s 412us/step - loss: 0.8907 - accuracy: 0.8129\n",
      "Epoch 4/20\n",
      "1945/1945 [==============================] - 1s 407us/step - loss: 0.5657 - accuracy: 0.8668\n",
      "Epoch 5/20\n",
      "1945/1945 [==============================] - 1s 412us/step - loss: 0.3872 - accuracy: 0.9100\n",
      "Epoch 6/20\n",
      "1945/1945 [==============================] - 1s 414us/step - loss: 0.2786 - accuracy: 0.9404\n",
      "Epoch 7/20\n",
      "1945/1945 [==============================] - 1s 406us/step - loss: 0.1975 - accuracy: 0.9671\n",
      "Epoch 8/20\n",
      "1945/1945 [==============================] - 1s 411us/step - loss: 0.1442 - accuracy: 0.9753\n",
      "Epoch 9/20\n",
      "1945/1945 [==============================] - 1s 416us/step - loss: 0.1088 - accuracy: 0.9805\n",
      "Epoch 10/20\n",
      "1945/1945 [==============================] - 1s 408us/step - loss: 0.0814 - accuracy: 0.9871\n",
      "Epoch 11/20\n",
      "1945/1945 [==============================] - 1s 414us/step - loss: 0.0590 - accuracy: 0.9923\n",
      "Epoch 12/20\n",
      "1945/1945 [==============================] - 1s 421us/step - loss: 0.0444 - accuracy: 0.9979\n",
      "Epoch 13/20\n",
      "1945/1945 [==============================] - 1s 449us/step - loss: 0.0354 - accuracy: 0.9979\n",
      "Epoch 14/20\n",
      "1945/1945 [==============================] - 1s 414us/step - loss: 0.0258 - accuracy: 0.9985\n",
      "Epoch 15/20\n",
      "1945/1945 [==============================] - 1s 436us/step - loss: 0.0206 - accuracy: 0.9990\n",
      "Epoch 16/20\n",
      "1945/1945 [==============================] - 1s 463us/step - loss: 0.0163 - accuracy: 1.0000\n",
      "Epoch 17/20\n",
      "1945/1945 [==============================] - 1s 442us/step - loss: 0.0141 - accuracy: 1.0000\n",
      "Epoch 18/20\n",
      "1945/1945 [==============================] - 1s 464us/step - loss: 0.0123 - accuracy: 1.0000\n",
      "Epoch 19/20\n",
      "1945/1945 [==============================] - 1s 447us/step - loss: 0.0100 - accuracy: 1.0000\n",
      "Epoch 20/20\n",
      "1945/1945 [==============================] - 1s 419us/step - loss: 0.0084 - accuracy: 1.0000\n"
     ]
    }
   ],
   "source": [
    "history = hog_model.fit(hog_X_ANN_train, hog_Y_ANN_train_cat, epochs=20, batch_size=64)"
   ]
  },
  {
   "cell_type": "code",
   "execution_count": 456,
   "metadata": {},
   "outputs": [],
   "source": [
    "#prediction on testing set\n",
    "hog_Y_pred = hog_model.predict(hog_X_ANN_test)\n",
    "#Converting predictions to label\n",
    "pred = list()\n",
    "for i in range(len(hog_Y_pred)):\n",
    "    pred.append(np.argmax(hog_Y_pred[i]))\n",
    "#Converting one hot encoded test label to label\n",
    "test = list()\n",
    "for i in range(len(hog_Y_ANN_test_cat)):\n",
    "    test.append(np.argmax(hog_Y_ANN_test_cat[i]))"
   ]
  },
  {
   "cell_type": "code",
   "execution_count": 457,
   "metadata": {},
   "outputs": [
    {
     "name": "stdout",
     "output_type": "stream",
     "text": [
      "Accuracy for hog dataset for ANN is: 93.22381930184805\n"
     ]
    }
   ],
   "source": [
    "from sklearn.metrics import accuracy_score\n",
    "a = accuracy_score(pred,test)\n",
    "print('Accuracy for hog dataset for ANN is:', a*100)"
   ]
  },
  {
   "cell_type": "markdown",
   "metadata": {},
   "source": [
    "# Experiment 4: hog_ros dataset"
   ]
  },
  {
   "cell_type": "code",
   "execution_count": 177,
   "metadata": {},
   "outputs": [
    {
     "data": {
      "text/plain": [
       "(15288, 1801)"
      ]
     },
     "execution_count": 177,
     "metadata": {},
     "output_type": "execute_result"
    }
   ],
   "source": [
    "#load Symbols_hog_ros as hog_ros:\n",
    "hog_ros = pd.read_csv('Symbols_hog_ros.csv', delimiter = ',', header=None)\n",
    "\n",
    "#change to numpy array\n",
    "hog_ros = np.array(hog_ros)\n",
    "hog_ros\n",
    "hog_ros.shape"
   ]
  },
  {
   "cell_type": "code",
   "execution_count": 602,
   "metadata": {},
   "outputs": [
    {
     "data": {
      "text/plain": [
       "15288"
      ]
     },
     "execution_count": 602,
     "metadata": {},
     "output_type": "execute_result"
    }
   ],
   "source": [
    "#hog_ros\n",
    "hog_ros\n",
    "hog_rosX = hog_ros [:,:-1]\n",
    "hog_rosY = hog_ros [:,-1:]\n",
    "\n",
    "len(hog_rosY) #15288"
   ]
  },
  {
   "cell_type": "code",
   "execution_count": 180,
   "metadata": {},
   "outputs": [
    {
     "name": "stdout",
     "output_type": "stream",
     "text": [
      "[ 0  0  0 ... 38 38 38]\n"
     ]
    }
   ],
   "source": [
    "from sklearn import preprocessing\n",
    "\n",
    "from sklearn import utils\n",
    "\n",
    "lab_enc = preprocessing.LabelEncoder()\n",
    "\n",
    "encoded = lab_enc.fit_transform(hog_rosY)\n",
    "#print(encoded)\n",
    "\n",
    "hog_rosY= encoded\n",
    "\n",
    "\n",
    "print(hog_rosY)\n",
    "type(hog_rosY)\n",
    "hog_rosY.shape\n",
    "hog_rosX\n",
    "hog_rosY.shape\n",
    "hog_rosY=np.ravel(hog_rosY)"
   ]
  },
  {
   "cell_type": "code",
   "execution_count": 181,
   "metadata": {},
   "outputs": [
    {
     "name": "stdout",
     "output_type": "stream",
     "text": [
      "hog_ros training X shape is: (12230, 1800)\n",
      "hog_ros training Y shape is: (12230,)\n",
      "hog_ros testing X shape is: (3058, 1800)\n",
      "hog_ros testing Y shape is: (3058,)\n"
     ]
    }
   ],
   "source": [
    "#split the dataset hog into 80:20\n",
    "hog_rosX_train, hog_rosX_test, hog_rosY_train, hog_rosY_test = model_selection.train_test_split(hog_rosX, hog_rosY, train_size=0.80,test_size=0.20, random_state=42)\n",
    "\n",
    "print ('hog_ros training X shape is:', hog_rosX_train.shape)\n",
    "print ('hog_ros training Y shape is:', hog_rosY_train.shape)\n",
    "print ('hog_ros testing X shape is:', hog_rosX_test.shape)\n",
    "print ('hog_ros testing Y shape is:', hog_rosY_test.shape)"
   ]
  },
  {
   "cell_type": "markdown",
   "metadata": {},
   "source": [
    "# SVM and RF"
   ]
  },
  {
   "cell_type": "code",
   "execution_count": 182,
   "metadata": {},
   "outputs": [],
   "source": [
    "#SVM liner model\n",
    "from sklearn.svm import SVC\n",
    "model_svm = SVC(kernel = 'linear')\n",
    "clf_svm = model_svm.fit(hog_rosX_train, hog_rosY_train)\n",
    "svm_hog_ros = model_svm.predict(hog_rosX_test)"
   ]
  },
  {
   "cell_type": "code",
   "execution_count": 183,
   "metadata": {},
   "outputs": [
    {
     "name": "stdout",
     "output_type": "stream",
     "text": [
      "[ 3 11 18 ... 28 19 38] (3058,)\n"
     ]
    }
   ],
   "source": [
    "# random forest classifier\n",
    "from sklearn.ensemble import RandomForestClassifier\n",
    "model_rf_hog_ros = RandomForestClassifier(n_estimators = 500, random_state = 42)\n",
    "clf_rf_hog_ros = model_rf_hog_ros.fit(hog_rosX_train, hog_rosY_train)\n",
    "rf_hog_ros = model_rf_hog_ros.predict(hog_rosX_test)\n",
    "print(rf_hog_ros, rf_hog_ros.shape)"
   ]
  },
  {
   "cell_type": "code",
   "execution_count": 184,
   "metadata": {},
   "outputs": [
    {
     "name": "stdout",
     "output_type": "stream",
     "text": [
      "Accuracy score of SVM for hog_ros:  99.9345977763244\n",
      "Accuracy score of RF for hog_ros:  99.96729888816219\n"
     ]
    }
   ],
   "source": [
    "from sklearn.metrics import accuracy_score\n",
    "print('Accuracy score of SVM for hog_ros: ', accuracy_score(svm_hog_ros, hog_rosY_test)*100)\n",
    "print('Accuracy score of RF for hog_ros: ', accuracy_score(rf_hog_ros, hog_rosY_test)*100)"
   ]
  },
  {
   "cell_type": "markdown",
   "metadata": {},
   "source": [
    "# ANN on hog_ros dataset"
   ]
  },
  {
   "cell_type": "code",
   "execution_count": null,
   "metadata": {},
   "outputs": [],
   "source": [
    "print ('hog_ros training X shape is:', hog_rosX_train.shape)\n",
    "print ('hog_ros training Y shape is:', hog_rosY_train.shape)\n",
    "print ('hog_ros testing X shape is:', hog_rosX_test.shape)\n",
    "print ('hog_ros testing Y shape is:', hog_rosY_test.shape)"
   ]
  },
  {
   "cell_type": "code",
   "execution_count": 191,
   "metadata": {},
   "outputs": [],
   "source": [
    "rosX_ANN_train=hog_rosX_train\n",
    "rosX_ANN_test=hog_rosX_test\n",
    "rosY_ANN_train=hog_rosY_train\n",
    "rosY_ANN_test=hog_rosY_test"
   ]
  },
  {
   "cell_type": "code",
   "execution_count": 193,
   "metadata": {},
   "outputs": [],
   "source": [
    "#change the labels to categorical\n",
    "from keras.utils.np_utils import to_categorical\n",
    "\n",
    "rosY_ANN_train_cat = to_categorical(rosY_ANN_train)\n",
    "\n",
    "rosY_ANN_test_cat = to_categorical(rosY_ANN_test)\n"
   ]
  },
  {
   "cell_type": "code",
   "execution_count": 194,
   "metadata": {},
   "outputs": [],
   "source": [
    "np.random.seed(123)"
   ]
  },
  {
   "cell_type": "code",
   "execution_count": 458,
   "metadata": {},
   "outputs": [],
   "source": [
    "# Neural network\n",
    "ros_model = Sequential()\n",
    "ros_model.add(Dense(64, input_dim=1800, activation='relu'))\n",
    "ros_model.add(Dense(300, activation='relu'))\n",
    "ros_model.add(Dense(39, activation='softmax'))"
   ]
  },
  {
   "cell_type": "code",
   "execution_count": 459,
   "metadata": {},
   "outputs": [],
   "source": [
    "ros_model.compile(loss='categorical_crossentropy', optimizer='adam', metrics=['accuracy'])"
   ]
  },
  {
   "cell_type": "code",
   "execution_count": 460,
   "metadata": {},
   "outputs": [
    {
     "name": "stdout",
     "output_type": "stream",
     "text": [
      "Epoch 1/5\n",
      "12230/12230 [==============================] - 16s 1ms/step - loss: 1.0772 - accuracy: 0.7740\n",
      "Epoch 2/5\n",
      "12230/12230 [==============================] - 7s 598us/step - loss: 0.0823 - accuracy: 0.9868\n",
      "Epoch 3/5\n",
      "12230/12230 [==============================] - 7s 537us/step - loss: 0.0223 - accuracy: 0.9975\n",
      "Epoch 4/5\n",
      "12230/12230 [==============================] - 6s 502us/step - loss: 0.0087 - accuracy: 0.9997\n",
      "Epoch 5/5\n",
      "12230/12230 [==============================] - 6s 497us/step - loss: 0.0045 - accuracy: 0.9998\n"
     ]
    }
   ],
   "source": [
    "history = ros_model.fit(rosX_ANN_train, rosY_ANN_train_cat, epochs=5, batch_size=64)"
   ]
  },
  {
   "cell_type": "code",
   "execution_count": 461,
   "metadata": {},
   "outputs": [],
   "source": [
    "#prediction on testing set\n",
    "ros_Y_pred = ros_model.predict(rosX_ANN_test)\n",
    "#Converting predictions to label\n",
    "pred = list()\n",
    "for i in range(len(ros_Y_pred)):\n",
    "    pred.append(np.argmax(ros_Y_pred[i]))\n",
    "#Converting one hot encoded test label to label\n",
    "test = list()\n",
    "for i in range(len(rosY_ANN_test_cat)):\n",
    "    test.append(np.argmax(rosY_ANN_test_cat[i]))"
   ]
  },
  {
   "cell_type": "code",
   "execution_count": 462,
   "metadata": {},
   "outputs": [
    {
     "name": "stdout",
     "output_type": "stream",
     "text": [
      "Accuracy for hog_ros dataset for ANN is: 99.9345977763244\n"
     ]
    }
   ],
   "source": [
    "from sklearn.metrics import accuracy_score\n",
    "a = accuracy_score(pred,test)\n",
    "print('Accuracy for hog_ros dataset for ANN is:', a*100)"
   ]
  },
  {
   "cell_type": "code",
   "execution_count": 276,
   "metadata": {},
   "outputs": [
    {
     "name": "stdout",
     "output_type": "stream",
     "text": [
      "Train on 12230 samples, validate on 3058 samples\n",
      "Epoch 1/5\n",
      "12230/12230 [==============================] - 8s 622us/step - loss: 3.6955e-05 - accuracy: 1.0000 - val_loss: 3.0608e-05 - val_accuracy: 1.0000\n",
      "Epoch 2/5\n",
      "12230/12230 [==============================] - 8s 618us/step - loss: 3.1818e-05 - accuracy: 1.0000 - val_loss: 2.6779e-05 - val_accuracy: 1.0000\n",
      "Epoch 3/5\n",
      "12230/12230 [==============================] - 7s 605us/step - loss: 2.7866e-05 - accuracy: 1.0000 - val_loss: 2.3970e-05 - val_accuracy: 1.0000\n",
      "Epoch 4/5\n",
      "12230/12230 [==============================] - 7s 602us/step - loss: 2.4677e-05 - accuracy: 1.0000 - val_loss: 2.1150e-05 - val_accuracy: 1.0000\n",
      "Epoch 5/5\n",
      "12230/12230 [==============================] - 8s 615us/step - loss: 2.2063e-05 - accuracy: 1.0000 - val_loss: 1.9015e-05 - val_accuracy: 1.0000\n"
     ]
    }
   ],
   "source": [
    "history = ros_model.fit(rosX_ANN_train, rosY_ANN_train_cat,validation_data = (rosX_ANN_test,rosY_ANN_test_cat), epochs=5, batch_size=64)"
   ]
  },
  {
   "cell_type": "code",
   "execution_count": 241,
   "metadata": {},
   "outputs": [
    {
     "data": {
      "image/png": "[encoded data removed]",
      "text/plain": [
       "<Figure size 432x288 with 1 Axes>"
      ]
     },
     "metadata": {
      "needs_background": "light"
     },
     "output_type": "display_data"
    }
   ],
   "source": [
    "#visualise\n",
    "import matplotlib.pyplot as plt\n",
    "plt.plot(history.history['accuracy'])\n",
    "plt.plot(history.history['val_accuracy'])\n",
    "plt.title('Model accuracy')\n",
    "plt.ylabel('Accuracy')\n",
    "plt.xlabel('Epoch')\n",
    "plt.legend(['Training', 'Testing'], loc='upper left')\n",
    "plt.show()"
   ]
  },
  {
   "cell_type": "code",
   "execution_count": 242,
   "metadata": {},
   "outputs": [
    {
     "data": {
      "image/png": "[encoded data removed]",
      "text/plain": [
       "<Figure size 432x288 with 1 Axes>"
      ]
     },
     "metadata": {
      "needs_background": "light"
     },
     "output_type": "display_data"
    }
   ],
   "source": [
    "import matplotlib.pyplot as plt\n",
    "\n",
    "plt.plot(history.history['loss']) \n",
    "plt.plot(history.history['val_loss']) \n",
    "plt.title('Model loss') \n",
    "plt.ylabel('Loss') \n",
    "plt.xlabel('Epoch') \n",
    "plt.legend(['Training', 'Testing'], loc='upper left') \n",
    "plt.show()"
   ]
  },
  {
   "cell_type": "code",
   "execution_count": 245,
   "metadata": {},
   "outputs": [
    {
     "name": "stdout",
     "output_type": "stream",
     "text": [
      "[4.5440787307252926e-05, 1.0]\n"
     ]
    }
   ],
   "source": [
    "scores = ros_model.evaluate(rosX_ANN_test[test], rosY_ANN_test_cat[test], verbose = 0)\n",
    "print(scores)"
   ]
  },
  {
   "cell_type": "markdown",
   "metadata": {},
   "source": [
    "# Experiment 5: lbp dataset"
   ]
  },
  {
   "cell_type": "code",
   "execution_count": 238,
   "metadata": {},
   "outputs": [
    {
     "data": {
      "text/plain": [
       "(2432, 27)"
      ]
     },
     "execution_count": 238,
     "metadata": {},
     "output_type": "execute_result"
    }
   ],
   "source": [
    "#load Symbols_lbp.csv as lbp:\n",
    "lbp = pd.read_csv('Symbols_lbp.csv', delimiter = ',', header=None)\n",
    "#change to numpy array\n",
    "lbp = np.array(lbp)\n",
    "lbp\n",
    "lbp.shape"
   ]
  },
  {
   "cell_type": "code",
   "execution_count": 247,
   "metadata": {},
   "outputs": [],
   "source": [
    "#lbp\n",
    "lbp\n",
    "lbpX = lbp [:,:-1]\n",
    "lbpY = lbp [:,-1:]\n"
   ]
  },
  {
   "cell_type": "code",
   "execution_count": 249,
   "metadata": {},
   "outputs": [
    {
     "name": "stdout",
     "output_type": "stream",
     "text": [
      "[ 0  0  0 ... 38 38 38]\n"
     ]
    }
   ],
   "source": [
    "from sklearn import preprocessing\n",
    "\n",
    "from sklearn import utils\n",
    "\n",
    "lab_enc = preprocessing.LabelEncoder()\n",
    "\n",
    "encoded = lab_enc.fit_transform(lbpY)\n",
    "#print(encoded)\n",
    "\n",
    "lbpY= encoded\n",
    "\n",
    "\n",
    "print(lbpY)\n",
    "type(lbpY)\n",
    "lbpY.shape\n",
    "lbpX\n",
    "lbpX.shape\n",
    "lbpY.shape\n",
    "lbpY = np.ravel(lbpY)"
   ]
  },
  {
   "cell_type": "code",
   "execution_count": 250,
   "metadata": {},
   "outputs": [],
   "source": [
    "#split the dataset hog into 80:20\n",
    "lbpX_train, lbpX_test, lbpY_train, lbpY_test = model_selection.train_test_split(lbpX, lbpY, train_size=0.80,test_size=0.20, random_state=42)\n"
   ]
  },
  {
   "cell_type": "code",
   "execution_count": 255,
   "metadata": {},
   "outputs": [
    {
     "name": "stdout",
     "output_type": "stream",
     "text": [
      "lbp training X shape is: (1945, 26)\n",
      "lbp training Y shape is: (1945,)\n",
      "lbp testing X shape is: (487, 26)\n",
      "lbp testing Y shape is: (487,)\n"
     ]
    }
   ],
   "source": [
    "print ('lbp training X shape is:' , lbpX_train.shape)\n",
    "print ('lbp training Y shape is:' , lbpY_train.shape)\n",
    "print ('lbp testing X shape is:' , lbpX_test.shape)\n",
    "print ('lbp testing Y shape is:' , lbpY_test.shape)"
   ]
  },
  {
   "cell_type": "code",
   "execution_count": 252,
   "metadata": {},
   "outputs": [],
   "source": [
    "#SVM liner model\n",
    "from sklearn.svm import SVC\n",
    "model_svm = SVC(kernel = 'linear')\n",
    "clf_svm = model_svm.fit(lbpX_train, lbpY_train)\n",
    "svm_lbp = model_svm.predict(lbpX_test)"
   ]
  },
  {
   "cell_type": "code",
   "execution_count": 253,
   "metadata": {},
   "outputs": [],
   "source": [
    "# random forest classifier\n",
    "from sklearn.ensemble import RandomForestClassifier\n",
    "model_rf_lbp = RandomForestClassifier(n_estimators = 500, random_state = 42)\n",
    "clf_rf_lbp = model_rf_lbp.fit(lbpX_train, lbpY_train)\n",
    "rf_lbp = model_rf_lbp.predict(lbpX_test)"
   ]
  },
  {
   "cell_type": "code",
   "execution_count": 254,
   "metadata": {},
   "outputs": [
    {
     "name": "stdout",
     "output_type": "stream",
     "text": [
      "Accuracy score of SVM for lbp:  46.201232032854215\n",
      "Accuracy score of RF for lbp:  98.15195071868584\n"
     ]
    }
   ],
   "source": [
    "from sklearn.metrics import accuracy_score\n",
    "print('Accuracy score of SVM for lbp: ', accuracy_score(svm_lbp, lbpY_test)*100)\n",
    "print('Accuracy score of RF for lbp: ', accuracy_score(rf_lbp, lbpY_test)*100)"
   ]
  },
  {
   "cell_type": "markdown",
   "metadata": {},
   "source": [
    "# ANN for lbp dataset"
   ]
  },
  {
   "cell_type": "code",
   "execution_count": 260,
   "metadata": {},
   "outputs": [
    {
     "name": "stdout",
     "output_type": "stream",
     "text": [
      "lbp training X shape is: (1945, 26)\n",
      "lbp training Y shape is: (1945,)\n",
      "lbp testing X shape is: (487, 26)\n",
      "lbp testing Y shape is: (487,)\n"
     ]
    }
   ],
   "source": [
    "print ('lbp training X shape is:' , lbpX_train.shape)\n",
    "print ('lbp training Y shape is:' , lbpY_train.shape)\n",
    "print ('lbp testing X shape is:' , lbpX_test.shape)\n",
    "print ('lbp testing Y shape is:' , lbpY_test.shape)"
   ]
  },
  {
   "cell_type": "code",
   "execution_count": 537,
   "metadata": {},
   "outputs": [],
   "source": [
    "lbpX_ANN_train = lbpX_train\n",
    "lbpX_ANN_test = lbpX_test\n",
    "lbpY_ANN_train = lbpY_train\n",
    "lbpY_ANN_test = lbpY_test"
   ]
  },
  {
   "cell_type": "code",
   "execution_count": 548,
   "metadata": {},
   "outputs": [],
   "source": [
    "#change the labels to categorical\n",
    "from keras.utils.np_utils import to_categorical\n",
    "\n",
    "lbpY_ANN_train_cat = to_categorical(lbpY_ANN_train)\n",
    "\n",
    "lbpY_ANN_test_cat = to_categorical(lbpY_ANN_test)\n"
   ]
  },
  {
   "cell_type": "code",
   "execution_count": 551,
   "metadata": {},
   "outputs": [],
   "source": [
    "np.random.seed(123)"
   ]
  },
  {
   "cell_type": "code",
   "execution_count": 552,
   "metadata": {},
   "outputs": [],
   "source": [
    "# Neural network\n",
    "lbp_model = Sequential()\n",
    "lbp_model.add(Dense(64, input_dim=26, activation='relu'))\n",
    "lbp_model.add(Dense(300, activation='relu'))\n",
    "lbp_model.add(Dense(39, activation='softmax'))"
   ]
  },
  {
   "cell_type": "code",
   "execution_count": 574,
   "metadata": {},
   "outputs": [],
   "source": [
    "lbp_model.compile(loss='categorical_crossentropy', optimizer= 'adam', metrics=['accuracy'])"
   ]
  },
  {
   "cell_type": "code",
   "execution_count": 575,
   "metadata": {},
   "outputs": [
    {
     "name": "stdout",
     "output_type": "stream",
     "text": [
      "Epoch 1/5\n",
      "1945/1945 [==============================] - 0s 125us/step - loss: 1.0277 - accuracy: 0.6977\n",
      "Epoch 2/5\n",
      "1945/1945 [==============================] - 0s 48us/step - loss: 1.0006 - accuracy: 0.7270\n",
      "Epoch 3/5\n",
      "1945/1945 [==============================] - 0s 48us/step - loss: 0.9834 - accuracy: 0.7198\n",
      "Epoch 4/5\n",
      "1945/1945 [==============================] - 0s 59us/step - loss: 0.9632 - accuracy: 0.7198\n",
      "Epoch 5/5\n",
      "1945/1945 [==============================] - 0s 63us/step - loss: 0.9495 - accuracy: 0.7368\n"
     ]
    }
   ],
   "source": [
    "history = lbp_model.fit(lbpX_ANN_train, lbpY_ANN_train_cat, epochs=5, batch_size=64)"
   ]
  },
  {
   "cell_type": "code",
   "execution_count": 576,
   "metadata": {},
   "outputs": [],
   "source": [
    "#prediction on testing set\n",
    "lbp_Y_pred = lbp_model.predict(lbpX_ANN_test)\n",
    "\n",
    "pred = list()\n",
    "for i in range(len(lbp_Y_pred)):\n",
    "    pred.append(np.argmax(lbp_Y_pred[i]))\n",
    "\n",
    "test = list()\n",
    "for i in range(len(lbpY_ANN_test_cat)):\n",
    "    test.append(np.argmax(lbpY_ANN_test_cat[i]))"
   ]
  },
  {
   "cell_type": "code",
   "execution_count": 577,
   "metadata": {},
   "outputs": [
    {
     "name": "stdout",
     "output_type": "stream",
     "text": [
      "Accuracy for lbp dataset for ANN with adam is: 70.2258726899384\n"
     ]
    }
   ],
   "source": [
    "from sklearn.metrics import accuracy_score\n",
    "a = accuracy_score(pred,test)\n",
    "print('Accuracy for lbp dataset for ANN with adam is:', a*100)"
   ]
  },
  {
   "cell_type": "markdown",
   "metadata": {},
   "source": [
    "# Results"
   ]
  },
  {
   "cell_type": "markdown",
   "metadata": {},
   "source": [
    "Experiment 1 (pix dataset)\n",
    "\n",
    "For the original pixels dataset, all classifiers were conducted. The SVM and RF gave an accuracy of 92.6% and 92.8% respectively. The accuracy results were not that different, so SVM and RF can both be used here. ANN for pix dataset gave an accuracy of 83.5%. In the training data the accuracy was 88% when using 5 epochs. 83.5% on the testing data is quite good. CNN gave an accuracy on the testing data  was 87.6% with a loss of 0.6 even though the accuracy on training data was 99% with 5 epochs. SVM and RF seem to be the most efficient classifier for this dataset. \n"
   ]
  },
  {
   "attachments": {},
   "cell_type": "markdown",
   "metadata": {},
   "source": [
    "Experiment 2 (pix_cd dataset)\n",
    "Class decomposition (cd) is the process by which the labels are further classed into subclasses by applying kmeans clustering forming more classes. Class decomposition is normally done to solve the problem of low variance classification method. Having many subclasses should have increased efficiency of the models used by identifying hidden patterns within the classes. \n",
    "\n",
    "Experiment 2 was conducted on pix_cd dataset with all classifiers. SVM and RF gave accuracy of 85% and 82% respectively. ANN gave an accuracy of 4.5% for pix_cd dataset. \n",
    "CNN gave an accuracy of 71.6%. For CNN, performance was lower (37%) when the n was 100. Accuracy was significantly increased to 71.6% when n was increased to 1000 using 5 X 5 filter. In addition the loss also went down. When 3 X 3 filter was used, performance of CNN also increased and gave an accuracy of 72 %. For pix_cd dataset, SVM and RF gave higher accuracies compared to other classifiers. However, various hyperparameters such as optimisers and activation functions could be tuned to increase the performance of the low performing classifiers. However, for ANN with pix_cd, even when changing the optimisers or N had no effect on accuracy. Lots of other hyperparameters could be tuned to make it perform better. \n"
   ]
  },
  {
   "attachments": {},
   "cell_type": "markdown",
   "metadata": {},
   "source": [
    "Experiment 3 (hog dataset)\n",
    "Histogram of Oriented Gradients (hog) is one of the feature descriptor used in image processing. This method is used for object detection. It extracts features out of the pixels. Hog descriptor and Linear support vector machine has been widely used to accurately train  to classify objects (Dalal and Triggs, 2005). \n",
    "\n",
    "Hog dataset  was used to perform the classifiers except CNN. SVM and RF gave accuracy of 94.8% and 94% respectively. ANN gave an accuracy of 93.2% for hog dataset. Accuracy on the testing set was 100%. For this dataset, any of the classifiers is good in terms of prediction accuracy. Hog goes through the image and look at gradients and converts the image into  feature vectors. \n"
   ]
  },
  {
   "cell_type": "markdown",
   "metadata": {},
   "source": [
    "Experiment 4 (hog_ros dataset)\n",
    "Random oversampling is normally carried out for imbalanced data.  Oversampling helps the minority data by duplicating the minority data to balance the classes. However, in some models, this might cause overfitting. Random oversampling also reduces the majority class but this might cause the important information to be lost. \n",
    "\n",
    "\n",
    "For hog_ros dataset, SVM, RF and ANN was tested. Both SVM and RF gave an accuracy of 99.9%. ANN also gave accuracy of 99.9% on both training and testing dataset making all classifiers as the best performing one for this dataset. Random oversampling balances the classes by duplicating the minority class. This technique affects some machine learning algorithms and influence the fit of the model causing the overfitting of the model. Keeping record of the performance on training as well as testing data is useful in this context. \n"
   ]
  },
  {
   "cell_type": "markdown",
   "metadata": {},
   "source": [
    "Experiment 5 (lbp dataset)\n",
    "Local binary patterns (LBP) is a method of texture or pattern descriptor where the pixels of an image are changed into binary patterns making them computationally efficient to work on (Ojala et al., 2002). Each pixel is compared to its neighbouring pixels and a local representation of texture is computed. This allows to capture very fine-grained details of the image which also has its own limitation. \n",
    "\n",
    "For lbp dataset, SVM, RF and ANN was carried out. SVM gave an accuracy of 46.2% but RF performed well with 98.1% accuracy. Accuracy of lbp was 70% with ANN  and did not change much when the optimiser was changed to ‘rmsprop’. Accuracy in training and testing data was also not much different. More parameter tuning and changing the number of epochs could have changed the accuracy for this classifier. \n"
   ]
  },
  {
   "cell_type": "markdown",
   "metadata": {},
   "source": [
    "# Conclusion"
   ]
  },
  {
   "attachments": {},
   "cell_type": "markdown",
   "metadata": {},
   "source": [
    "Conclusion\n",
    "In these experiment, it can be seen that for hog_ros dataset, any of the classifier can perform well with an accuracy of almost 100%. For all the classifiers and datasets, it is possible to improve the performance of the models by tuning the hyper parameters (optimisers, activation function and learning rates) and improving the validation framework. Splitting the datasets could be improved by further splitting the training sets into validation set to validate the model’s performance on unseen data or using k-fold cross validation and looking at performance on each fold. Other metrics such as error rates could also be useful in deciding the best classifier as accuracy alone cannot be the perfect measure of the performance. Other measures such as precision, sensitivity and specificity might also be useful and looking at the statistical significance of the accuracy and loss of each of the classifiers would also be important. \n",
    "\n",
    "In addition, I did not have time to properly analyse and visualise the performance of all the classfiers statistically.\n"
   ]
  },
  {
   "cell_type": "code",
   "execution_count": 603,
   "metadata": {},
   "outputs": [
    {
     "data": {
      "text/html": [
       "<div>\n",
       "<style scoped>\n",
       "    .dataframe tbody tr th:only-of-type {\n",
       "        vertical-align: middle;\n",
       "    }\n",
       "\n",
       "    .dataframe tbody tr th {\n",
       "        vertical-align: top;\n",
       "    }\n",
       "\n",
       "    .dataframe thead th {\n",
       "        text-align: right;\n",
       "    }\n",
       "</style>\n",
       "<table border=\"1\" class=\"dataframe\">\n",
       "  <thead>\n",
       "    <tr style=\"text-align: right;\">\n",
       "      <th></th>\n",
       "      <th>Exp</th>\n",
       "      <th>Dataset</th>\n",
       "      <th>SVM_Accuracy%</th>\n",
       "      <th>RF_Accuracy%</th>\n",
       "      <th>ANN_Accuracy%</th>\n",
       "      <th>CNN_Accuracy%</th>\n",
       "    </tr>\n",
       "  </thead>\n",
       "  <tbody>\n",
       "    <tr>\n",
       "      <th>0</th>\n",
       "      <td>Exp1</td>\n",
       "      <td>Pix</td>\n",
       "      <td>92.6</td>\n",
       "      <td>92.8</td>\n",
       "      <td>83.5</td>\n",
       "      <td>87.6</td>\n",
       "    </tr>\n",
       "    <tr>\n",
       "      <th>1</th>\n",
       "      <td>Exp2</td>\n",
       "      <td>Pix_cd</td>\n",
       "      <td>85.0</td>\n",
       "      <td>82.0</td>\n",
       "      <td>4.5</td>\n",
       "      <td>71.6</td>\n",
       "    </tr>\n",
       "    <tr>\n",
       "      <th>2</th>\n",
       "      <td>Exp3</td>\n",
       "      <td>hog</td>\n",
       "      <td>94.8</td>\n",
       "      <td>94.0</td>\n",
       "      <td>93.2</td>\n",
       "      <td>NaN</td>\n",
       "    </tr>\n",
       "    <tr>\n",
       "      <th>3</th>\n",
       "      <td>Exp 4</td>\n",
       "      <td>hog_ros</td>\n",
       "      <td>99.9</td>\n",
       "      <td>99.9</td>\n",
       "      <td>99.9</td>\n",
       "      <td>NaN</td>\n",
       "    </tr>\n",
       "    <tr>\n",
       "      <th>4</th>\n",
       "      <td>Exp 5</td>\n",
       "      <td>lbp</td>\n",
       "      <td>46.2</td>\n",
       "      <td>98.1</td>\n",
       "      <td>70.2</td>\n",
       "      <td>NaN</td>\n",
       "    </tr>\n",
       "  </tbody>\n",
       "</table>\n",
       "</div>"
      ],
      "text/plain": [
       "     Exp  Dataset  SVM_Accuracy%  RF_Accuracy%  ANN_Accuracy%  CNN_Accuracy%\n",
       "0   Exp1      Pix           92.6          92.8           83.5           87.6\n",
       "1   Exp2   Pix_cd           85.0          82.0            4.5           71.6\n",
       "2   Exp3      hog           94.8          94.0           93.2            NaN\n",
       "3  Exp 4  hog_ros           99.9          99.9           99.9            NaN\n",
       "4  Exp 5      lbp           46.2          98.1           70.2            NaN"
      ]
     },
     "execution_count": 603,
     "metadata": {},
     "output_type": "execute_result"
    }
   ],
   "source": [
    "\n",
    "table = [['Exp1', 'Pix', 92.6, 92.8, 83.5, 87.6], ['Exp2', 'Pix_cd', 85, 82, 4.5, 71.6], ['Exp3', 'hog', 94.8, 94, 93.2], ['Exp 4', 'hog_ros', 99.9, 99.9, 99.9], ['Exp 5', 'lbp', 46.2, 98.1, 70.2]]\n",
    "df = pd.DataFrame(table, columns=['Exp', 'Dataset', 'SVM_Accuracy%', 'RF_Accuracy%', 'ANN_Accuracy%', 'CNN_Accuracy%'])\n",
    "df"
   ]
  },
  {
   "cell_type": "code",
   "execution_count": 604,
   "metadata": {},
   "outputs": [
    {
     "data": {
      "image/png": "[encoded data removed]",
      "text/plain": [
       "<Figure size 432x288 with 1 Axes>"
      ]
     },
     "metadata": {
      "needs_background": "light"
     },
     "output_type": "display_data"
    }
   ],
   "source": [
    "SVM_plot = df.plot(kind='bar', x = 'Dataset', y = 'SVM_Accuracy%')"
   ]
  },
  {
   "cell_type": "code",
   "execution_count": 605,
   "metadata": {},
   "outputs": [
    {
     "data": {
      "image/png": "[encoded data removed]",
      "text/plain": [
       "<Figure size 432x288 with 1 Axes>"
      ]
     },
     "metadata": {
      "needs_background": "light"
     },
     "output_type": "display_data"
    }
   ],
   "source": [
    "RF_plot = df.plot(kind='bar', x = 'Dataset', y = 'RF_Accuracy%')"
   ]
  },
  {
   "cell_type": "code",
   "execution_count": 606,
   "metadata": {},
   "outputs": [
    {
     "data": {
      "image/png": "[encoded data removed]",
      "text/plain": [
       "<Figure size 432x288 with 1 Axes>"
      ]
     },
     "metadata": {
      "needs_background": "light"
     },
     "output_type": "display_data"
    }
   ],
   "source": [
    "ANN_plot = df.plot(kind='bar', x = 'Dataset', y = 'ANN_Accuracy%')"
   ]
  },
  {
   "cell_type": "code",
   "execution_count": 607,
   "metadata": {},
   "outputs": [
    {
     "data": {
      "image/png": "[encoded data removed]",
      "text/plain": [
       "<Figure size 432x288 with 1 Axes>"
      ]
     },
     "metadata": {
      "needs_background": "light"
     },
     "output_type": "display_data"
    }
   ],
   "source": [
    "CNN_plot = df.plot(kind='bar', x = 'Dataset', y = 'CNN_Accuracy%')"
   ]
  },
  {
   "cell_type": "markdown",
   "metadata": {},
   "source": [
    "# References"
   ]
  },
  {
   "cell_type": "markdown",
   "metadata": {},
   "source": [
    "Dalal, N and Bill, T (2005). Histograms of Orientated Gradients for human Detection. IEEE Conference on Computer Vision and Pttern Recognition(CVPR 2005).2.\n",
    "\n",
    "ELYAN, E; MORENO GARCIA, C and JAYNE, C 2018. Symbols classification in engineering drawings. In Proceedings of the 2018 International joint conference on neural networks (IJCNN 2018), 8-13 July 2018, Rio de Janeiro, Brazil. Piscataway, NJ: IEEE [online], article number 8489087.\n",
    "\n",
    "Kingma, DP and Ba, J (2015). Adam: A method for Scochastic Optimization. ICLR 2015. \n",
    "\n",
    "Krizhevsky, A; Sutskever, I;  Hinton, G (2012). ImageNet Classification with Deep Convolutional Neural Networks. Neural Information Processing Systems. 25. 10.1145/3065386. \n",
    "\n",
    "Ojala, Timo ; Pietikäinen, Matti ; Maenpaa, T(2002). Multiresolution Gray-Scale and Rotation Invariant Texture Classification with Local Binary Patterns. Pattern Analysis and Machine Intelligence, IEEE Transactions on. 24. 971-987. 10.1109/TPAMI.2002.1017623. "
   ]
  }
 ],
 "metadata": {
  "kernelspec": {
   "display_name": "Python 3",
   "language": "python",
   "name": "python3"
  },
  "language_info": {
   "codemirror_mode": {
    "name": "ipython",
    "version": 3
   },
   "file_extension": ".py",
   "mimetype": "text/x-python",
   "name": "python",
   "nbconvert_exporter": "python",
   "pygments_lexer": "ipython3",
   "version": "3.7.3"
  }
 },
 "nbformat": 4,
 "nbformat_minor": 2
}
